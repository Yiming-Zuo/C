{
 "cells": [
  {
   "cell_type": "code",
   "execution_count": 19,
   "metadata": {
    "pycharm": {
     "is_executing": false,
     "name": "#%%\n"
    }
   },
   "outputs": [
    {
     "name": "stdout",
     "text": [
      "爬\n"
     ],
     "output_type": "stream"
    }
   ],
   "source": [
    "is_employee = False\n",
    "\n",
    "# 非Flase == True\n",
    "if not is_employee:\n",
    "    print('爬')"
   ]
  },
  {
   "cell_type": "code",
   "execution_count": 20,
   "metadata": {
    "pycharm": {
     "is_executing": false,
     "name": "#%%\n"
    }
   },
   "outputs": [
    {
     "traceback": [
      "\u001b[0;31m---------------------------------------------------------------------------\u001b[0m",
      "\u001b[0;31mValueError\u001b[0m                                Traceback (most recent call last)",
      "\u001b[0;32m<ipython-input-20-b72670f287a9>\u001b[0m in \u001b[0;36m<module>\u001b[0;34m\u001b[0m\n\u001b[1;32m      1\u001b[0m \u001b[0;34m\u001b[0m\u001b[0m\n\u001b[1;32m      2\u001b[0m \u001b[0;31m# bool((0)) == Flase\u001b[0m\u001b[0;34m\u001b[0m\u001b[0;34m\u001b[0m\u001b[0;34m\u001b[0m\u001b[0m\n\u001b[0;32m----> 3\u001b[0;31m \u001b[0mhas_ticket\u001b[0m \u001b[0;34m=\u001b[0m \u001b[0mbool\u001b[0m\u001b[0;34m(\u001b[0m\u001b[0mint\u001b[0m\u001b[0;34m(\u001b[0m\u001b[0minput\u001b[0m\u001b[0;34m(\u001b[0m\u001b[0;34m'车票数量'\u001b[0m\u001b[0;34m)\u001b[0m\u001b[0;34m)\u001b[0m\u001b[0;34m)\u001b[0m\u001b[0;34m\u001b[0m\u001b[0;34m\u001b[0m\u001b[0m\n\u001b[0m\u001b[1;32m      4\u001b[0m \u001b[0mknife_length\u001b[0m \u001b[0;34m=\u001b[0m \u001b[0mint\u001b[0m\u001b[0;34m(\u001b[0m\u001b[0minput\u001b[0m\u001b[0;34m(\u001b[0m\u001b[0;34m'刀的长度'\u001b[0m\u001b[0;34m)\u001b[0m\u001b[0;34m)\u001b[0m\u001b[0;34m\u001b[0m\u001b[0;34m\u001b[0m\u001b[0m\n\u001b[1;32m      5\u001b[0m \u001b[0;34m\u001b[0m\u001b[0m\n",
      "\u001b[0;31mValueError\u001b[0m: invalid literal for int() with base 10: ''"
     ],
     "ename": "ValueError",
     "evalue": "invalid literal for int() with base 10: ''",
     "output_type": "error"
    }
   ],
   "source": [
    "# bool((0)) == Flase\n",
    "has_ticket = bool(int(input('车票数量')))\n",
    "knife_length = int(input('刀的长度'))\n",
    "\n",
    "if has_ticket:\n",
    "    if knife_length <= 20:\n",
    "        print('进入安检')\n",
    "    else:\n",
    "        print('爬')\n",
    "else:\n",
    "    print('爬')"
   ]
  },
  {
   "cell_type": "code",
   "execution_count": null,
   "metadata": {
    "pycharm": {
     "is_executing": false,
     "name": "#%%\n"
    }
   },
   "outputs": [],
   "source": [
    "import random\n",
    "\n",
    "my_fist = int(input('您的出拳？石头1剪刀2布3'))\n",
    "# random.randint()\n",
    "sys_fist = random.randint(1,3)\n",
    "\n",
    "if sys_fist == 1:\n",
    "    if my_fist == 1:\n",
    "        print('平')\n",
    "    elif my_fist == 2:\n",
    "        print('输')\n",
    "    elif my_fist == 3:\n",
    "        print('赢')\n",
    "    else:\n",
    "        print('爬')\n",
    "elif sys_fist == 2:\n",
    "    if my_fist == 1:\n",
    "        print('赢')\n",
    "    elif my_fist == 2:\n",
    "        print('平')\n",
    "    elif my_fist == 3:\n",
    "        print('输')\n",
    "    else:\n",
    "        print('爬')\n",
    "elif sys_fist == 3:\n",
    "    if my_fist == 1:\n",
    "        print('输')\n",
    "    elif my_fist == 2:\n",
    "        print('赢')\n",
    "    elif my_fist == 3:\n",
    "        print('平')\n",
    "    else:\n",
    "        print('爬')\n",
    "else:\n",
    "    print('爬')"
   ]
  },
  {
   "cell_type": "code",
   "execution_count": null,
   "metadata": {
    "pycharm": {
     "is_executing": false,
     "name": "#%%\n"
    }
   },
   "outputs": [],
   "source": [
    "import random\n",
    "\n",
    "my_fist = int(input('您的出拳？石头1剪刀2布3'))\n",
    "sys_fist = random.randint(1,3)\n",
    "\n",
    "# control-/ 批量注释\n",
    "# 1>2 2>3 3>1\n",
    "# 换行\n",
    "if ((my_fist == 1 and sys_fist == 2) \n",
    "        or (my_fist == 2 and sys_fist ==3) \n",
    "        or (my_fist ==3)):\n",
    "    print('赢')\n",
    "elif my_fist == sys_fist:\n",
    "    print('平')\n",
    "else:\n",
    "    print('输')"
   ]
  },
  {
   "cell_type": "code",
   "execution_count": null,
   "metadata": {
    "pycharm": {
     "is_executing": false,
     "name": "#%%\n"
    }
   },
   "outputs": [],
   "source": [
    "x = 0\n",
    "y = 0\n",
    "\n",
    "while x < 101:\n",
    "    # !\n",
    "    if x % 2 == 0:\n",
    "        y += x \n",
    "    x += 1\n",
    "print(y)"
   ]
  },
  {
   "cell_type": "code",
   "execution_count": null,
   "metadata": {
    "pycharm": {
     "is_executing": false,
     "name": "#%%\n"
    }
   },
   "outputs": [],
   "source": [
    "n = 0 \n",
    "\n",
    "while n < 5:\n",
    "    if n == 3:\n",
    "        #终止整个循环\n",
    "        break\n",
    "    print(n)\n",
    "    n += 1"
   ]
  },
  {
   "cell_type": "code",
   "execution_count": null,
   "metadata": {
    "pycharm": {
     "is_executing": false,
     "name": "#%%\n"
    }
   },
   "outputs": [],
   "source": [
    "n = 0 \n",
    "\n",
    "while n < 5:\n",
    "    if n == 3:\n",
    "        n += 1\n",
    "        #终止当次循环，进入下次循环\n",
    "        continue\n",
    "    print(n)\n",
    "    n += 1"
   ]
  },
  {
   "cell_type": "code",
   "execution_count": null,
   "metadata": {
    "pycharm": {
     "is_executing": false,
     "name": "#%%\n"
    }
   },
   "outputs": [],
   "source": [
    "n = 1\n",
    "while n<=5:\n",
    "    print('*' * n)\n",
    "    n += 1"
   ]
  },
  {
   "cell_type": "code",
   "execution_count": null,
   "metadata": {
    "pycharm": {
     "is_executing": false,
     "name": "#%%\n"
    }
   },
   "outputs": [],
   "source": [
    "n = 0\n",
    "\n",
    "while n < 5:\n",
    "    # !初试化i\n",
    "    i = 0\n",
    "    while i <= n:\n",
    "        # print函数结尾处理\n",
    "        print('*',end='')\n",
    "        i += 1\n",
    "    print('')\n",
    "    n += 1"
   ]
  },
  {
   "cell_type": "code",
   "execution_count": null,
   "metadata": {
    "pycharm": {
     "is_executing": false,
     "name": "#%%\n"
    }
   },
   "outputs": [],
   "source": [
    "# row行 column列\n",
    "row = 1\n",
    "\n",
    "while row < 10:\n",
    "    col = 1\n",
    "    while col <= row:\n",
    "        # 制表符对齐\n",
    "        print('%d*%d=%d' % (row,col,(row * col)),end='\\t')\n",
    "        col += 1\n",
    "    print('')\n",
    "    row += 1"
   ]
  },
  {
   "cell_type": "code",
   "execution_count": null,
   "outputs": [],
   "source": [
    "# 形参\n",
    "def sum_2_num(num1,num2):\n",
    "    # return表示返回，后续代码都不会被执行\n",
    "    return num1 + num2\n",
    "\n",
    "#实参\n",
    "result = sum_2_num(3,45)\n",
    "print(result)"
   ],
   "metadata": {
    "collapsed": false,
    "pycharm": {
     "name": "#%%\n",
     "is_executing": false
    }
   }
  },
  {
   "cell_type": "code",
   "execution_count": null,
   "outputs": [],
   "source": [
    "\n",
    "def print_line(char,times):\n",
    "    print(char * times)\n",
    "\n",
    "def print_lines(char,time,n):\n",
    "    row = 0\n",
    "    \n",
    "    while n > row:\n",
    "        print_line(char,time)\n",
    "        row += 1 "
   ],
   "metadata": {
    "collapsed": false,
    "pycharm": {
     "name": "#%%\n",
     "is_executing": false
    }
   }
  },
  {
   "cell_type": "code",
   "execution_count": null,
   "outputs": [],
   "source": [
    "# 列表（有序）\n",
    "name_list = ['zhangsan','zhangsan','zhangsan','zhangsan','lisi','liuwu']\n",
    "name_list0 = ['zuoqi','songba']\n",
    "\n",
    "# 列表长度\n",
    "name_list_len = len(name_list)\n",
    "# 数据出现次数\n",
    "zhangsan_count = name_list.count('zhangsan')\n",
    "# 数据第一次出现的索引\n",
    "zhangsan_index = name_list.index('zhangsan')\n",
    "\n",
    "print(name_list_len,zhangsan_count,zhangsan_index)\n",
    "\n",
    "# 指定位置插入数据\n",
    "name_list.insert(0,'wanger')\n",
    "# 末尾追加数据\n",
    "name_list.append('zhaoliu')\n",
    "# 末尾追加列表\n",
    "name_list.extend(name_list0)\n",
    "# 删除指定索引的数据\n",
    "del name_list[1]\n",
    "# 删除第一个出现的指定数据\n",
    "name_list.remove('zhangsan')\n",
    "# 删除末尾数据\n",
    "name_list.pop()\n",
    "# 删除指定索引的数据\n",
    "name_list.pop(1)\n",
    "print(name_list)\n",
    "\n",
    "# !不能将函数赋予变量\n",
    "# 升序\n",
    "name_list.sort()\n",
    "print(name_list)\n",
    "# 降序\n",
    "name_list.sort(reverse=True)\n",
    "print(name_list)\n",
    "# 翻转\n",
    "name_list.reverse()\n",
    "print(name_list)\n",
    "\n",
    "# 迭代遍历 Iteration\n",
    "for name in name_list:\n",
    "    print('hello,%s!' % name)\n",
    "name_list.clear()\n",
    "print(name_list)"
   ],
   "metadata": {
    "collapsed": false,
    "pycharm": {
     "name": "#%%\n",
     "is_executing": false
    }
   }
  },
  {
   "cell_type": "code",
   "execution_count": null,
   "outputs": [],
   "source": [
    "# 关键字、函数、方法\n",
    "# 关键字(33个)后不需要括号\n",
    "import keyword\n",
    "\n",
    "keyword.kwlist\n",
    "\n",
    "# 函数封装了独立功能，可直接调用\n",
    "# 函数名(参数)\n",
    "\n",
    "# 方法封装了独立功能，需要通过对象来调用\n",
    "# 对象.方法.(参数)"
   ],
   "metadata": {
    "collapsed": false,
    "pycharm": {
     "name": "#%%\n",
     "is_executing": false
    }
   }
  },
  {
   "cell_type": "code",
   "execution_count": null,
   "outputs": [],
   "source": [
    "# 元组（有序）\n",
    "# 元组中只有一个函数时，元素后要加,\n",
    "a_tuple = (1,)\n",
    "\n",
    "info_tuple = ('zhangsan',18,1.75)\n",
    "\n",
    "# 长度\n",
    "len_info = len(info_tuple)\n",
    "# 元素第一次出现的索引\n",
    "index_18 = info_tuple.index(18)\n",
    "# 元素出现的次数\n",
    "count_175 = info_tuple.count(1.75)\n",
    "\n",
    "print(len_info,index_18,count_175)\n",
    "\n",
    "# 元组迭代（不常用）\n",
    "for info in info_tuple:\n",
    "    print(info)\n",
    "\n",
    "# 元组的应用（元素不能被修改）\n",
    "# 格式化字符串后面的()本质上就是一个元组\n",
    "print('姓名：%s 年龄：%d 身高：%.2f' % info_tuple)\n",
    "# 列表转化为元组，保护数据安全\n",
    "print(list(info_tuple))\n",
    "print(tuple(info_tuple))"
   ],
   "metadata": {
    "collapsed": false,
    "pycharm": {
     "name": "#%%\n",
     "is_executing": false
    }
   }
  },
  {
   "cell_type": "code",
   "execution_count": null,
   "outputs": [],
   "source": [
    "# 字典（无序）\n",
    "\n",
    "info_dict = {'name':'xiaoming','age':'18','gender':True}\n",
    "info_dict0 = {'height':1.75,'weight':100}\n",
    "\n",
    "# 合并列表\n",
    "info_dict.update(info_dict0)\n",
    "# 添加键值对\n",
    "info_dict['grade'] = 100\n",
    "info_dict.setdefault('class',1)\n",
    "print(len(info_dict))\n",
    "\n",
    "# 删除键值对\n",
    "del info_dict['weight']\n",
    "info_dict.pop('height')\n",
    "# 随机删除一个键值对\n",
    "info_dict.popitem()\n",
    "print(info_dict)\n",
    "print(len(info_dict))\n",
    "\n",
    "# 从字典中取值\n",
    "print(info_dict.get('age'))\n",
    "# 查看所有key列表\n",
    "print(info_dict.keys())\n",
    "# 查看所有value列表\n",
    "print(info_dict.values())\n",
    "# 查看所有(key,value)元组列表\n",
    "print(info_dict.items())\n",
    "\n",
    "# dict.fromkeys(seq[, value])\n",
    "# 以序列seq创建字典\n",
    "fromkey_dict = dict.fromkeys((1,2,3))\n",
    "print(fromkey_dict)\n",
    "fromkey_dict = dict.fromkeys([4,5,6])\n",
    "print(fromkey_dict)\n",
    "fromkey_dict = dict.fromkeys('abc')\n",
    "print(fromkey_dict)\n",
    "# value当做整体赋值\n",
    "fromkey_dict = dict.fromkeys([7,8,9],(1,2))\n",
    "print(fromkey_dict)\n",
    "\n",
    "# dict.copy() 浅复制\n",
    "copy_dict = fromkey_dict.copy()\n",
    "print(copy_dict)"
   ],
   "metadata": {
    "collapsed": false,
    "pycharm": {
     "name": "#%%\n",
     "is_executing": false
    }
   }
  },
  {
   "cell_type": "code",
   "execution_count": null,
   "outputs": [],
   "source": [
    "# 迭代（不常用\n",
    "# !dict.items()相当于一个元组列表\n",
    "for k,v in info_dict.items():\n",
    "    print('%s:%s' % (k,v))\n",
    "\n",
    "for k in info_dict:\n",
    "    print('%s:%s' % (k,info_dict[k]))\n",
    "\n",
    "# 应用：遍历列表中的多个字典\n",
    "card_list = [{\"name\": \"张三\",\n",
    "              \"qq\": \"12345\",\n",
    "              \"phone\": \"110\"},\n",
    "             {\"name\": \"李四\",\n",
    "              \"qq\": \"54321\",\n",
    "              \"phone\": \"10086\"}]\n",
    "for card in card_list:\n",
    "    print(card)"
   ],
   "metadata": {
    "collapsed": false,
    "pycharm": {
     "name": "#%%\n",
     "is_executing": false
    }
   }
  },
  {
   "cell_type": "code",
   "execution_count": null,
   "outputs": [],
   "source": [
    "# 字符串\n",
    "# 小字符串出现的次数\n",
    "'python'.count('on')\n",
    "# 索引出单个字符\n",
    "'python'[1]\n",
    "# 小字符串出现的次数\n",
    "'python'.index('y')"
   ],
   "metadata": {
    "collapsed": false,
    "pycharm": {
     "name": "#%%\n",
     "is_executing": false
    }
   }
  },
  {
   "cell_type": "code",
   "execution_count": null,
   "outputs": [],
   "source": [
    "# 迭代\n",
    "for i in 'python':\n",
    "    print(i)"
   ],
   "metadata": {
    "collapsed": false,
    "pycharm": {
     "name": "#%%\n",
     "is_executing": false
    }
   }
  },
  {
   "cell_type": "code",
   "execution_count": null,
   "outputs": [],
   "source": [
    "# 判断类型\n",
    "# string只包含空格字符( \\t\\n\\r)返回True\n",
    "' \\t\\n\\r'.isspace()\n",
    "# string至少有一个字符且是数字或字符返回True\n",
    "'abc123'.isalnum()\n",
    "# strong至少有一个字符且全是字符返回True\n",
    "'abc'.isalpha()"
   ],
   "metadata": {
    "collapsed": false,
    "pycharm": {
     "name": "#%%\n",
     "is_executing": false
    }
   }
  },
  {
   "cell_type": "code",
   "execution_count": null,
   "outputs": [],
   "source": [
    "# 三个都不能判断小数\n",
    "# 全角数字返回True\n",
    "'123'.isdecimal()\n",
    "# 全角数字、⑴、\\u00b2\n",
    "# 平方\n",
    "'\\u00b2'.isdigit()\n",
    "# unicode字符串\n",
    "'⑴'.isdigit()\n",
    "# 全角数字，汉字数字\n",
    "'123一千零一'.isnumeric()\n",
    "# string是标题化（第一个字母大写）返回True\n",
    "'Abc Dc'.istitle()\n",
    "# 小写字符串\n",
    "'a'.islower()\n",
    "# 大写字符串\n",
    "'A'.isupper()"
   ],
   "metadata": {
    "collapsed": false,
    "pycharm": {
     "name": "#%%\n",
     "is_executing": false
    }
   }
  },
  {
   "cell_type": "code",
   "execution_count": null,
   "outputs": [],
   "source": [
    "# 查找和替换\n",
    "# 以小字符串开头返回True\n",
    "'abc'.startswith('ab')\n",
    "# 以小字符串结尾返回True\n",
    "'abc'.endswith('bc')\n",
    "# 存在小字符串返回索引，否则返回-1\n",
    "'abcdefg'.find('ab')\n",
    "# 与string.find()类似，不存在则报错\n",
    "'abcdefg'.index('ab')\n",
    "# 替换字符串中的小字符串\n",
    "'abc'.replace('a','b')"
   ],
   "metadata": {
    "collapsed": false,
    "pycharm": {
     "name": "#%%\n",
     "is_executing": false
    }
   }
  },
  {
   "cell_type": "code",
   "execution_count": null,
   "outputs": [],
   "source": [
    "# 大小写转换\n",
    "# 第一个字符大写\n",
    "'abc'.capitalize()\n",
    "# 标题化\n",
    "'abc def'.title()\n",
    "# 大写转小写\n",
    "'ABc'.lower()\n",
    "# 小写转大写\n",
    "'aBc'.upper()\n",
    "# 翻转大小写\n",
    "'AbC'.swapcase()"
   ],
   "metadata": {
    "collapsed": false,
    "pycharm": {
     "name": "#%%\n",
     "is_executing": false
    }
   }
  },
  {
   "cell_type": "code",
   "execution_count": null,
   "outputs": [],
   "source": [
    "# 文本对齐\n",
    "poem = ['诗','一二三四五','一二三','一','一二']\n",
    "\n",
    "for str in poem:\n",
    "    # 中文空格-全角空格\n",
    "    print('|%s|' % str.center(10,'　'))\n",
    "\n",
    "# 左对齐\n",
    "'abc'.ljust(10)\n",
    "# 右对齐\n",
    "'abc'.rjust(10)\n",
    "# 居中\n",
    "'abc'.center(10)"
   ],
   "metadata": {
    "collapsed": false,
    "pycharm": {
     "name": "#%%\n",
     "is_executing": false
    }
   }
  },
  {
   "cell_type": "code",
   "execution_count": null,
   "outputs": [],
   "source": [
    "# 去除空白字符\n",
    "' a b '.lstrip()\n",
    "' a b '.rstrip()\n",
    "# 左右两边\n",
    "' a b '.strip()"
   ],
   "metadata": {
    "collapsed": false,
    "pycharm": {
     "name": "#%%\n",
     "is_executing": false
    }
   }
  },
  {
   "cell_type": "code",
   "execution_count": null,
   "outputs": [],
   "source": [
    "# 拆分和连接\n",
    "# str前面, str, str后面\n",
    "'abcdef'.partition('b')\n",
    "# str前面, str后面\n",
    "'abcdef'.split('cd')\n",
    "# 不指定默认为空格\n",
    "'a b \\rc\\td\\ne'.split()\n",
    "# string.join(seq) 拼接 seq序列-列表，元素，字典\n",
    "'\\n'.join(('a','b','c'))"
   ],
   "metadata": {
    "collapsed": false,
    "pycharm": {
     "name": "#%%\n",
     "is_executing": false
    }
   }
  },
  {
   "cell_type": "code",
   "execution_count": null,
   "outputs": [],
   "source": [
    "# 贴片 字符串/列表/元组[开始索引:结束索引:步长]\n",
    "# 左闭右开\n",
    "'abcdef'[:2]"
   ],
   "metadata": {
    "collapsed": false,
    "pycharm": {
     "name": "#%%\n",
     "is_executing": false
    }
   }
  },
  {
   "cell_type": "code",
   "execution_count": null,
   "outputs": [],
   "source": [
    "[1,2,3,4,5][::2]"
   ],
   "metadata": {
    "collapsed": false,
    "pycharm": {
     "name": "#%%\n",
     "is_executing": false
    }
   }
  },
  {
   "cell_type": "code",
   "execution_count": null,
   "outputs": [],
   "source": [
    "(1,2,3,4,5)[-4:-2]"
   ],
   "metadata": {
    "collapsed": false,
    "pycharm": {
     "name": "#%%\n",
     "is_executing": false
    }
   }
  },
  {
   "cell_type": "code",
   "execution_count": null,
   "outputs": [],
   "source": [
    "# 演练\n",
    "\n",
    "test_str = [0,1,2,3,4,5,6,7,8,9]\n",
    "\n",
    "test_str[2:6]\n",
    "test_str[2:]\n",
    "test_str[:6]\n",
    "test_str[:]\n",
    "test_str[::2]\n",
    "test_str[1::2]\n",
    "# !\n",
    "test_str[2:-1]\n",
    "test_str[-2:]\n",
    "# !\n",
    "test_str[::-1]"
   ],
   "metadata": {
    "collapsed": false,
    "pycharm": {
     "name": "#%%\n",
     "is_executing": false
    }
   }
  },
  {
   "cell_type": "code",
   "execution_count": null,
   "outputs": [],
   "source": [
    "# 公共方法\n",
    "# '0'<'A'<'a'\n",
    "len()\n",
    "del()\n",
    "max()\n",
    "min()\n",
    "# 贴片\n",
    "# 运算符 "
   ],
   "metadata": {
    "collapsed": false,
    "pycharm": {
     "name": "#%%\n",
     "is_executing": false
    }
   }
  },
  {
   "cell_type": "code",
   "execution_count": null,
   "outputs": [],
   "source": [
    "# 完整的for...in循环\n",
    "'''\n",
    "for 变量 in 集合:\n",
    "    循环体代码\n",
    "else:\n",
    "    没有通过 break 退出循环，循环结束后，会执行的代码\n",
    "'''\n",
    "students = [\n",
    "    {\"name\": \"阿土\",\n",
    "     \"age\": 20,\n",
    "     \"gender\": True,\n",
    "     \"height\": 1.7,\n",
    "     \"weight\": 75.0},\n",
    "    {\"name\": \"小美\",\n",
    "     \"age\": 19,\n",
    "     \"gender\": False,\n",
    "     \"height\": 1.6,\n",
    "     \"weight\": 45.0},\n",
    "]\n",
    "find_name = '阿土'\n",
    "\n",
    "for stu_dict in students:\n",
    "    if stu_dict['name'] == find_name:\n",
    "        print('找到')\n",
    "        break\n",
    "else:\n",
    "    print('没有找到')\n",
    "print('结束')"
   ],
   "metadata": {
    "collapsed": false,
    "pycharm": {
     "name": "#%%\n",
     "is_executing": false
    }
   }
  },
  {
   "cell_type": "code",
   "execution_count": null,
   "outputs": [],
   "source": [
    "'''使用Shebang\n",
    "1 主python第一行添加解释器所在路径 \n",
    "    #! /usr/bin/python3\n",
    "    # -*- coding: utf-8 -*-\n",
    "2 修改主python文件权限\n",
    "    $ chmod +x cards_main.py\n",
    "3 执行\n",
    "    ./cards_main.py\n",
    "'''"
   ],
   "metadata": {
    "collapsed": false,
    "pycharm": {
     "name": "#%%\n",
     "is_executing": false
    }
   }
  },
  {
   "cell_type": "code",
   "execution_count": null,
   "outputs": [],
   "source": [
    "# 变量进阶（理解）\n",
    "# 变量的引用\n",
    "a = 1\n",
    "id(1)"
   ],
   "metadata": {
    "collapsed": false,
    "pycharm": {
     "name": "#%%\n",
     "is_executing": false
    }
   }
  },
  {
   "cell_type": "code",
   "execution_count": null,
   "outputs": [],
   "source": [
    "\n",
    "def test(num):\n",
    "    \n",
    "    print('-' * 50)\n",
    "    # %x:十六进制数\n",
    "    print('%d在函数内的内存地址是%x' % (num,id(num)))\n",
    "    \n",
    "    result_0 = 100\n",
    "    \n",
    "    print('r返回值%d在内存中的地址是%x' %(result_0,id(result_0)))\n",
    "    print('-' * 50)\n",
    "    \n",
    "    return result_0\n",
    "\n",
    "a = 10\n",
    "print('a调用函数前 内存地址是%x' % id(a))\n",
    "\n",
    "r = test(a)\n",
    "\n",
    "print('a调用函数后 实参内存地址是%x' % id(a))\n",
    "print('r调用函数后 返回值内存地址是%x' % id(r))"
   ],
   "metadata": {
    "collapsed": false,
    "pycharm": {
     "name": "#%%\n",
     "is_executing": false
    }
   }
  },
  {
   "cell_type": "code",
   "execution_count": null,
   "outputs": [],
   "source": [
    "# 可变和不可变类型\n",
    "# 不可变类型：数字类型、字符串、元组\n",
    "\n",
    "t = (1,2,3)\n",
    "# !t[0] = 2\n",
    "\n",
    "b = 'abc'\n",
    "# !b[0] = 'b'\n",
    "\n",
    "# 可变类型：列表、字典(key只能使用不可变类型数据)\n",
    "demo_list = [1, 2, 3]\n",
    "\n",
    "print(\"定义列表后的内存地址 %d\" % id(demo_list))\n",
    "\n",
    "demo_list.append(999)\n",
    "demo_list.pop(0)\n",
    "demo_list.remove(2)\n",
    "demo_list[0] = 10\n",
    "\n",
    "print(\"修改数据后的内存地址 %d\" % id(demo_list))\n",
    "\n",
    "demo_dict = {\"name\": \"小明\"}\n",
    "\n",
    "print(\"定义字典后的内存地址 %d\" % id(demo_dict))\n",
    "\n",
    "demo_dict[\"age\"] = 18\n",
    "demo_dict.pop(\"name\")\n",
    "demo_dict[\"name\"] = \"老王\"\n",
    "\n",
    "print(\"修改数据后的内存地址 %d\" % id(demo_dict))\n",
    "\n"
   ],
   "metadata": {
    "collapsed": false,
    "pycharm": {
     "name": "#%%\n",
     "is_executing": false
    }
   }
  },
  {
   "cell_type": "code",
   "execution_count": null,
   "outputs": [],
   "source": [
    "# 哈希(hash)函数：提取数据的特征码（指纹）\n",
    "# 接受不可变类型数据作为参数，返回一个整数\n",
    "\n",
    "hash(1)\n",
    "hash('hello')\n",
    "hash('hello1')"
   ],
   "metadata": {
    "collapsed": false,
    "pycharm": {
     "name": "#%%\n",
     "is_executing": false
    }
   }
  },
  {
   "cell_type": "code",
   "execution_count": null,
   "outputs": [],
   "source": [
    "# 局部变量和全局变量\n",
    "\n",
    "# 局部变量(函数内部)生命周期：函数执行时被创建，函数执行结束后被收回\n",
    "# 不同函数内可以定义相同名字的局部变量\n",
    "\n",
    "\n",
    "def demo_1():\n",
    "    num = 1\n",
    "    print(num)\n",
    "    \n",
    "\n",
    "def demo_2():\n",
    "    num = 2\n",
    "    print(num)"
   ],
   "metadata": {
    "collapsed": false,
    "pycharm": {
     "name": "#%%\n",
     "is_executing": false
    }
   }
  },
  {
   "cell_type": "code",
   "execution_count": null,
   "outputs": [],
   "source": [
    "# 全局变量\n",
    "# 全局变量命名:g_/gl_\n",
    "\n",
    "num = 10\n",
    "\n",
    "\n",
    "def demo_3():\n",
    "    # 只是定义了一个和全局变量名字相同的局部变量，不会修改到全局变量\n",
    "    num = 5\n",
    "    print(num)\n",
    "    \n",
    "    \n",
    "def demo_4():\n",
    "    global num\n",
    "    num = 6\n",
    "    print(num)\n",
    "\n",
    "demo_3()\n",
    "print(num)\n",
    "demo_4()\n",
    "print(num)"
   ],
   "metadata": {
    "collapsed": false,
    "pycharm": {
     "name": "#%%\n",
     "is_executing": false
    }
   }
  },
  {
   "cell_type": "code",
   "execution_count": null,
   "outputs": [],
   "source": [
    "'''代码结构\n",
    "shebang\n",
    "import模块\n",
    "全局变量\n",
    "函数定义\n",
    "执行代码\n",
    "'''"
   ],
   "metadata": {
    "collapsed": false,
    "pycharm": {
     "name": "#%%\n",
     "is_executing": false
    }
   }
  },
  {
   "cell_type": "code",
   "execution_count": null,
   "outputs": [],
   "source": [
    "# 1 函数进阶\n",
    "# 1.1 函数的参数和返回值\n",
    "'''无参数 无返回值\n",
    "1.显示菜单：只是单纯地做一件事\n",
    "2.新建名片：函数内部中针对全局变量进行操作，结果记录在全局变量中\n",
    "'''\n",
    "\n",
    "'''无参数 有返回值\n",
    "采集数据：返回温度\n",
    "'''\n",
    "\n",
    "'''有参数 无返回值\n",
    "名片修改、删除：针对不同参数处理不同数据\n",
    "'''\n",
    "\n",
    "'''有参数 有返回值\n",
    "名片系统的card_input:针对不同参数处理不同数据，返回期望的处理结果\n",
    "如果输入，返回输入内容\n",
    "如果没有输入，返回默认值\n",
    "'''"
   ],
   "metadata": {
    "collapsed": false,
    "pycharm": {
     "name": "#%%\n",
     "is_executing": false
    }
   }
  },
  {
   "cell_type": "code",
   "execution_count": null,
   "outputs": [],
   "source": [
    "\n",
    "def measure():\n",
    "    \"\"\"返回当前温度和湿度\"\"\"\n",
    "    print('开始测量。。。')\n",
    "    temp = 25\n",
    "    wetness = 10\n",
    "    print('测量结束。。。')\n",
    "\n",
    "    return temp,wetness\n",
    "\n",
    "# 可以将一个元组使用赋值语句同时赋值给多个变量\n",
    "a = temp,wetness = measure()"
   ],
   "metadata": {
    "collapsed": false,
    "pycharm": {
     "name": "#%%\n",
     "is_executing": false
    }
   }
  },
  {
   "cell_type": "code",
   "execution_count": null,
   "outputs": [],
   "source": [
    "# 交换两个数字\n",
    "a = 6\n",
    "b = 100\n",
    "\n",
    "\n",
    "def swap_ab(str1,str2):\n",
    "    return str2,str1\n",
    "\n",
    "a,b = swap_ab(a,b)\n",
    "# 解法1\n",
    "a,b = b,a\n",
    "# !解法2\n",
    "a = a + b\n",
    "b = a - b\n",
    "a = a - b"
   ],
   "metadata": {
    "collapsed": false,
    "pycharm": {
     "name": "#%%\n",
     "is_executing": false
    }
   }
  },
  {
   "cell_type": "code",
   "execution_count": null,
   "outputs": [],
   "source": [
    "# 函数的参数（进阶）\n",
    "# 1 在函数内部针对参数使用赋值语句，不会影响函数的外部变量实参\n",
    "\n",
    "\n",
    "def demo(num,list):\n",
    "    \n",
    "    num = 2\n",
    "    list = [1,2]\n",
    "    \n",
    "    print(num,list)\n",
    "\n",
    "num = 1\n",
    "list = [2,3]\n",
    "demo(num,list)\n",
    "print(num,list)"
   ],
   "metadata": {
    "collapsed": false,
    "pycharm": {
     "name": "#%%\n",
     "is_executing": false
    }
   }
  },
  {
   "cell_type": "code",
   "execution_count": null,
   "outputs": [],
   "source": [
    "\n",
    "# 函数内部修改可变类型会影响外部数据，因为没有定义局部变量\n",
    "def demo(list):\n",
    "    \n",
    "    list.extend([1,2,3])\n",
    "    \n",
    "    print(list)\n",
    "    \n",
    "list = [1]\n",
    "demo(list)\n",
    "print(list)"
   ],
   "metadata": {
    "collapsed": false,
    "pycharm": {
     "name": "#%%\n",
     "is_executing": false
    }
   }
  },
  {
   "cell_type": "code",
   "execution_count": null,
   "outputs": [],
   "source": [
    "# +=\n",
    "\n",
    "def demo(num,list):\n",
    "    \n",
    "    # 定义了局部变量，不会影响外部变量\n",
    "    num += num\n",
    "    # 实质上是在执行extend方法，不会修改变量的引用\n",
    "    list += list\n",
    "    \n",
    "    print(num,list)\n",
    "    \n",
    "num = 1\n",
    "list = [1]\n",
    "\n",
    "demo(num,list)\n",
    "print(num,list)"
   ],
   "metadata": {
    "collapsed": false,
    "pycharm": {
     "name": "#%%\n",
     "is_executing": false
    }
   }
  },
  {
   "cell_type": "code",
   "execution_count": null,
   "outputs": [],
   "source": [
    "# 2 缺省参数\n",
    "\n",
    "# 2.1 方法的缺省参数\n",
    "\n",
    "L = [2,1,3]\n",
    "\n",
    "# 默认是升序排序\n",
    "L.sort()\n",
    "\n",
    "# 需要降序时，传递reverse参数\n",
    "L.sort(reverse=True)"
   ],
   "metadata": {
    "collapsed": false,
    "pycharm": {
     "name": "#%%\n",
     "is_executing": false
    }
   }
  },
  {
   "cell_type": "code",
   "execution_count": null,
   "outputs": [],
   "source": [
    "# 2.2 函数的缺省参数\n",
    "\n",
    "\n",
    "def print_info(name,gender=True):\n",
    "    \"\"\"参数后使用赋值语句，制定参数的缺省值\n",
    "    缺省参数在参数列表末尾\n",
    "    多个缺省参数需要指定参数名\n",
    "    ：:param gender:True 男生 False 女生\n",
    "    \"\"\"\n",
    "    \n",
    "    gender_text = '男生'\n",
    "    # !\n",
    "    if not gender:\n",
    "        gender_text = '女生'\n",
    "        \n",
    "    print('%s是%s' % (name,gender_text))\n",
    "    \n",
    "print_info('小明')\n",
    "print_info('小红',gender=False)"
   ],
   "metadata": {
    "collapsed": false,
    "pycharm": {
     "name": "#%%\n",
     "is_executing": false
    }
   }
  },
  {
   "cell_type": "code",
   "execution_count": null,
   "outputs": [],
   "source": [
    "# 多值参数(参数个数不确定)\n",
    "# *args--存放元组参数 arguments\n",
    "# **kwargs--存放字典参数 keywordargs\n",
    "\n",
    "\n",
    "def demo(num,*args,**kwargs):\n",
    "    \n",
    "    print(num)\n",
    "    # !\n",
    "    print(args)\n",
    "    print(kwargs)\n",
    "    \n",
    "demo(1,2,3,4,5,name='小明',age=18,gender=True)"
   ],
   "metadata": {
    "collapsed": false,
    "pycharm": {
     "name": "#%%\n",
     "is_executing": false
    }
   }
  },
  {
   "cell_type": "code",
   "execution_count": null,
   "outputs": [],
   "source": [
    "# 案例：计算任意多个数字的和\n",
    "\n",
    "\n",
    "def sum_nums(*args):\n",
    "        \n",
    "    num = 0\n",
    "    for i in args:\n",
    "        num += i\n",
    "        \n",
    "    return num\n",
    "\n",
    "sum_nums(1,2,3)"
   ],
   "metadata": {
    "collapsed": false,
    "pycharm": {
     "name": "#%%\n",
     "is_executing": false
    }
   }
  },
  {
   "cell_type": "code",
   "execution_count": null,
   "outputs": [],
   "source": [
    "# 元组和字典的拆包\n",
    "\n",
    "\n",
    "tuple_demo = (1,2,3,4)\n",
    "# 拆包\n",
    "sum_nums(*tuple_demo)\n",
    "\n",
    "dict_demo = {'a':1,'b':2}\n",
    "\n",
    "\n",
    "def demo(**kwargs):\n",
    "    kwargs['a'] = 3\n",
    "    \n",
    "    return kwargs\n",
    "#拆包\n",
    "demo(**dict_demo)"
   ],
   "metadata": {
    "collapsed": false,
    "pycharm": {
     "name": "#%%\n",
     "is_executing": false
    }
   }
  },
  {
   "cell_type": "code",
   "execution_count": null,
   "outputs": [],
   "source": [
    "# 函数的递归(在函数内部调用自己）\n",
    "\n",
    "\n",
    "def sum_numbers(num):\n",
    "    \n",
    "    print(num)\n",
    "    \n",
    "    if num == 1:\n",
    "        return\n",
    "    \n",
    "    sum_numbers(num-1)\n",
    "    \n",
    "sum_numbers(5)\n"
   ],
   "metadata": {
    "collapsed": false,
    "pycharm": {
     "name": "#%%\n",
     "is_executing": false
    }
   }
  },
  {
   "cell_type": "code",
   "execution_count": null,
   "outputs": [],
   "source": [
    "#　案例－－计算数字累加\n",
    "\n",
    "def sum_demo(num):\n",
    "    \n",
    "    if num == 1:\n",
    "        return 1\n",
    "    \n",
    "    temp = sum_demo(num - 1)\n",
    "    \n",
    "    return num + temp\n",
    "    \n",
    "sum_demo(3)"
   ],
   "metadata": {
    "collapsed": false,
    "pycharm": {
     "name": "#%%\n",
     "is_executing": false
    }
   }
  },
  {
   "cell_type": "code",
   "execution_count": null,
   "outputs": [],
   "source": [
    "# is与==\n",
    "\n",
    "a = []\n",
    "b = []\n",
    "\n",
    "#　判断引用变量的值是否相等\n",
    "a == b \n",
    "#　判断两个变量引用对象是否为同一个\n",
    "a is b"
   ],
   "metadata": {
    "collapsed": false,
    "pycharm": {
     "name": "#%%\n",
     "is_executing": false
    }
   }
  },
  {
   "cell_type": "code",
   "execution_count": null,
   "outputs": [],
   "source": [
    "# 私有属性和私有方法\n",
    "\n",
    "class Women(object):\n",
    "    \n",
    "    def __init__(self, name):\n",
    "        self.name = name\n",
    "        # 私有属8\n",
    "        self.__age = 18\n",
    "        \n",
    "    def __secret(self):\n",
    "        print('俺叫%s' % self.name)\n",
    "        \n",
    "    def say(self):\n",
    "        # 私有属性在对象内部可以被使用\n",
    "        print('我的年龄是%s' % self.__age)\n",
    "\n",
    "xh = Women('小红')\n",
    "\n",
    "xh.say()\n",
    "xh.__secret()"
   ],
   "metadata": {
    "collapsed": false,
    "pycharm": {
     "name": "#%%\n",
     "is_executing": false
    }
   }
  },
  {
   "cell_type": "code",
   "execution_count": 16,
   "outputs": [
    {
     "name": "stdout",
     "text": [
      "我的年龄是18\n18\n俺叫小红\n"
     ],
     "output_type": "stream"
    }
   ],
   "source": [
    "# 私有属性和私有方法\n",
    "\n",
    "class Women(object):\n",
    "    \n",
    "    def __init__(self, name, age):\n",
    "        self.name = name\n",
    "        # 私有属8\n",
    "        self.__age = age\n",
    "        \n",
    "    def __secret(self):\n",
    "        print('俺叫%s' % self.name)\n",
    "        \n",
    "    def say(self):\n",
    "        # 私有属性在对象内部可以被使用\n",
    "        print('我的年龄是%s' % self.__age)\n",
    "\n",
    "xh = Women('小红', 18)\n",
    "\n",
    "xh.say()\n",
    "# 访问对象的私有属性和方法19023\n",
    "print(xh._Women__age)\n",
    "xh._Women__secret()"
   ],
   "metadata": {
    "collapsed": false,
    "pycharm": {
     "name": "#%%\n",
     "is_executing": false
    }
   }
  },
  {
   "cell_type": "code",
   "execution_count": null,
   "outputs": [],
   "source": [],
   "metadata": {
    "collapsed": false,
    "pycharm": {
     "name": "#%%\n"
    }
   }
  }
 ],
 "metadata": {
  "kernelspec": {
   "name": "python3",
   "language": "python",
   "display_name": "Python 3"
  },
  "language_info": {
   "codemirror_mode": {
    "name": "ipython",
    "version": 3
   },
   "file_extension": ".py",
   "mimetype": "text/x-python",
   "name": "python",
   "nbconvert_exporter": "python",
   "pygments_lexer": "ipython3",
   "version": "3.7.4"
  },
  "pycharm": {
   "stem_cell": {
    "cell_type": "raw",
    "source": [],
    "metadata": {
     "collapsed": false
    }
   }
  }
 },
 "nbformat": 4,
 "nbformat_minor": 1
}