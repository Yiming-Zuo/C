{
 "cells": [
  {
   "cell_type": "code",
   "execution_count": 8,
   "metadata": {
    "collapsed": true,
    "pycharm": {
     "is_executing": false
    }
   },
   "outputs": [],
   "source": [
    "class Peron(object):\n",
    "    \n",
    "    \n",
    "    def __init__(self,name,age,height):\n",
    "        self.name = name\n",
    "        self.age = age\n",
    "        self.height = height\n",
    "        \n",
    "        \n",
    "    def run(self):\n",
    "        print('冲冲冲')\n",
    "    \n",
    "    \n",
    "    def eat(self):\n",
    "        print('吃吃吃')"
   ]
  },
  {
   "cell_type": "code",
   "execution_count": 9,
   "outputs": [],
   "source": [
    "# !字符串\n",
    "xiaoming = Peron('小明',18,1.75)\n",
    "xiaomei = Peron('小美',17,1.65)"
   ],
   "metadata": {
    "collapsed": false,
    "pycharm": {
     "name": "#%%\n",
     "is_executing": false
    }
   }
  },
  {
   "cell_type": "code",
   "execution_count": 10,
   "outputs": [
    {
     "name": "stdout",
     "text": [
      "冲冲冲\n"
     ],
     "output_type": "stream"
    }
   ],
   "source": [
    "xiaoming.run()"
   ],
   "metadata": {
    "collapsed": false,
    "pycharm": {
     "name": "#%%\n",
     "is_executing": false
    }
   }
  },
  {
   "cell_type": "code",
   "execution_count": 13,
   "outputs": [],
   "source": [
    "class Dog(object):\n",
    "    \n",
    "    \n",
    "    def __init__(self,name,color):\n",
    "        self.name = name\n",
    "        self.color = color\n",
    "    \n",
    "        \n",
    "    def shout(self):\n",
    "        print('汪汪汪')\n",
    "    \n",
    "    \n",
    "    def shake(self):\n",
    "        print('摇摇摇')\n",
    "    "
   ],
   "metadata": {
    "collapsed": false,
    "pycharm": {
     "name": "#%%\n",
     "is_executing": false
    }
   }
  },
  {
   "cell_type": "code",
   "execution_count": 14,
   "outputs": [],
   "source": [
    "dahuang = Dog('大黄','yello')"
   ],
   "metadata": {
    "collapsed": false,
    "pycharm": {
     "name": "#%%\n",
     "is_executing": false
    }
   }
  },
  {
   "cell_type": "code",
   "execution_count": 15,
   "outputs": [
    {
     "name": "stdout",
     "text": [
      "汪汪汪\n"
     ],
     "output_type": "stream"
    }
   ],
   "source": [
    "dahuang.shout()"
   ],
   "metadata": {
    "collapsed": false,
    "pycharm": {
     "name": "#%%\n",
     "is_executing": false
    }
   }
  },
  {
   "cell_type": "code",
   "execution_count": 16,
   "outputs": [
    {
     "data": {
      "text/plain": "['__class__',\n '__delattr__',\n '__dict__',\n '__dir__',\n '__doc__',\n '__eq__',\n '__format__',\n '__ge__',\n '__getattribute__',\n '__gt__',\n '__hash__',\n '__init__',\n '__init_subclass__',\n '__le__',\n '__lt__',\n '__module__',\n '__ne__',\n '__new__',\n '__reduce__',\n '__reduce_ex__',\n '__repr__',\n '__setattr__',\n '__sizeof__',\n '__str__',\n '__subclasshook__',\n '__weakref__',\n 'color',\n 'name',\n 'shake',\n 'shout']"
     },
     "metadata": {},
     "output_type": "execute_result",
     "execution_count": 16
    }
   ],
   "source": [
    "dir(dahuang)"
   ],
   "metadata": {
    "collapsed": false,
    "pycharm": {
     "name": "#%%\n",
     "is_executing": false
    }
   }
  },
  {
   "cell_type": "code",
   "execution_count": null,
   "outputs": [],
   "source": [
    "# 内置函数 dir()传入标识符/数据，查看对象内的所有属性及方法\n",
    "# __init__内置方法：对象被初始化时，自动调用\n",
    "# __new__:创建对象时，自动调用\n",
    "# __del__:对象从内存中被销毁前，自动调用\n",
    "# __str__:返回对象的描述信息，print输出对象函数时使用"
   ],
   "metadata": {
    "collapsed": false,
    "pycharm": {
     "name": "#%%\n"
    }
   }
  },
  {
   "cell_type": "code",
   "execution_count": 28,
   "outputs": [
    {
     "name": "stdout",
     "text": [
      "你好tom\n再见tom\ntom吃吃吃\n你好，tom\n7faf3b52db00\n再见tom\n"
     ],
     "output_type": "stream"
    }
   ],
   "source": [
    "class Cat(object):\n",
    "    \"\"\"这是一个猫类\"\"\"\n",
    "    \n",
    "    def __init__(self,name):\n",
    "        \"\"\"初始化方法\n",
    "        定义一个类具有哪些属性\n",
    "        创建对象时自动引用\n",
    "        self：调用这个方法的对象的引用\n",
    "        \"\"\"\n",
    "        # !\n",
    "        print('你好%s' % name)\n",
    "        # 设置成可以传入属性\n",
    "        self.name = name\n",
    "        # 设置默认属性值\n",
    "        self.age = 18\n",
    "              \n",
    "    def __str__(self):\n",
    "        # return 必须返回一个字符串\n",
    "        return('你好，我是%s' % self.name)\n",
    "        \n",
    "    def eat(self):\n",
    "        print('%s吃吃吃' % self.name)\n",
    "        \n",
    "    def drink(self):\n",
    "        print('%s喝喝喝' % self.name)\n",
    "        \n",
    "    def __del__(self):\n",
    "        # 对象从内存中被销毁前，自动调用\n",
    "        print('再见%s' % self.name)\n",
    "        \n",
    "tom = Cat('tom')\n",
    "tom.eat()\n",
    "\n",
    "# 用print输出对象变量，默认是输出变量引用对象的类和在内存中的地址（十六进制）                                                                                                                                                                                                                                                                                                                                                                                                                                                                                                                                                                                                                                                                                                                                                                                                                                                                                                                                                                                                                                                                                                                                                                                                                                                                                                                                                                                                                                                                                                                                                                                                                                                                                                                                                                                                                                                                                                                                                                                                                                                                                                                                                                                                                                                                                                                                                                                                                                                                                                                                                                                                                                                                                                                                                                                                                                                                                                                                                                                                                                                                                                                                                                                                                                                                                                                                                                                                                                                                                                                                                                                                                                                                                                                                                                                                                                                                                                                                                                                                                                                                                                                                                                                                                                                                                                                                                                                                                                                                                                                                                                                                                                                                                                                                                                                                                                                                                                                                                                                                                                                                                                                                                                                                                                                                                                                                                                                                                                                                                                                                                                                                                                                                                                                                                                                                                                                                                                                                                                                                                      \n",
    "print(tom)\n",
    "# <__main__.Cat object at 0x7faf3b52d7b8>\n",
    "print('%x' % id(tom))\n",
    "# 7faf3b52d7b8\n",
    "\n",
    "del tom"
   ],
   "metadata": {
    "collapsed": false,
    "pycharm": {
     "name": "#%%\n",
     "is_executing": false
    }
   }
  },
  {
   "cell_type": "code",
   "execution_count": null,
   "outputs": [],
   "source": [
    "\n"
   ],
   "metadata": {
    "collapsed": false,
    "pycharm": {
     "name": "#%%\n"
    }
   }
  }
 ],
 "metadata": {
  "language_info": {
   "codemirror_mode": {
    "name": "ipython",
    "version": 2
   },
   "file_extension": ".py",
   "mimetype": "text/x-python",
   "name": "python",
   "nbconvert_exporter": "python",
   "pygments_lexer": "ipython2",
   "version": "2.7.6"
  },
  "kernelspec": {
   "name": "python3",
   "language": "python",
   "display_name": "Python 3"
  },
  "pycharm": {
   "stem_cell": {
    "cell_type": "raw",
    "source": [],
    "metadata": {
     "collapsed": false
    }
   }
  }
 },
 "nbformat": 4,
 "nbformat_minor": 0
}