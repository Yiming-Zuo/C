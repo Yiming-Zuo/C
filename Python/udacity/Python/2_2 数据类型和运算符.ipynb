{
 "cells": [
  {
   "cell_type": "markdown",
   "metadata": {
    "heading_collapsed": true
   },
   "source": [
    "### 1 算数运算符\n",
    "#### 1.1 `**` 求幂\n",
    "#### 1.2 `//` 向下取整"
   ]
  },
  {
   "cell_type": "code",
   "execution_count": 1,
   "metadata": {
    "hidden": true
   },
   "outputs": [
    {
     "name": "stdout",
     "output_type": "stream",
     "text": [
      "256\n",
      "3\n",
      "-4\n"
     ]
    }
   ],
   "source": [
    "# 1.1\n",
    "print(2 ** 8)\n",
    "# 1.2\n",
    "print(7 // 2)\n",
    "print(-7 // 2)"
   ]
  },
  {
   "cell_type": "markdown",
   "metadata": {
    "heading_collapsed": true
   },
   "source": [
    "### 2 按位逻辑运算符\n",
    "#### 2.1 `^` 按位异或\n",
    "#### 2.2 `%` 按位与\n",
    "#### 2.3 `|` 按位或"
   ]
  },
  {
   "cell_type": "code",
   "execution_count": 2,
   "metadata": {
    "hidden": true
   },
   "outputs": [
    {
     "name": "stdout",
     "output_type": "stream",
     "text": [
      "7\n",
      "0\n",
      "7\n"
     ]
    }
   ],
   "source": [
    "# 2.1 \n",
    "# 4^3 = 100^011 = 111 = 7\n",
    "print(4 ^ 3)\n",
    "# 2.2\n",
    "# 100&011 = 000 = 0\n",
    "print(4 & 3)\n",
    "# 2.3\n",
    "# 100&011 = 111 = 7\n",
    "print(4 | 3)"
   ]
  },
  {
   "cell_type": "markdown",
   "metadata": {
    "heading_collapsed": true
   },
   "source": [
    "### 2 赋值运算符\n",
    "#### 2.1 递增运算符"
   ]
  },
  {
   "cell_type": "code",
   "execution_count": 4,
   "metadata": {
    "hidden": true
   },
   "outputs": [
    {
     "name": "stdout",
     "output_type": "stream",
     "text": [
      "150\n"
     ]
    }
   ],
   "source": [
    "# 2.1\n",
    "my_values = 100\n",
    "my_values += 100 - 50\n",
    "print(my_values)"
   ]
  },
  {
   "cell_type": "markdown",
   "metadata": {
    "heading_collapsed": true
   },
   "source": [
    "### 3 整数和浮点数\n",
    "#### 3.1 数据类型转换 - 舍去小数点后面的值\n",
    "#### 3.2 `float` (近似值)略大于其数值\n",
    "#### 3.3 将数值与 `str` 拼接"
   ]
  },
  {
   "cell_type": "code",
   "execution_count": 3,
   "metadata": {
    "hidden": true
   },
   "outputs": [
    {
     "name": "stdout",
     "output_type": "stream",
     "text": [
      "4\n",
      "0.30000000000000004\n"
     ]
    }
   ],
   "source": [
    "# 3.1\n",
    "print(int(4.7))\n",
    "# 3.2\n",
    "print(0.1 + 0.1 + 0.1)"
   ]
  },
  {
   "cell_type": "code",
   "execution_count": 1,
   "metadata": {
    "hidden": true
   },
   "outputs": [
    {
     "name": "stdout",
     "output_type": "stream",
     "text": [
      "hello123\n"
     ]
    }
   ],
   "source": [
    "# 3.3\n",
    "my_str = \"hello\"\n",
    "my_num = 123\n",
    "new_str = my_str + str(my_num)\n",
    "\n",
    "print(new_str)"
   ]
  },
  {
   "cell_type": "markdown",
   "metadata": {
    "heading_collapsed": true
   },
   "source": [
    "### 4 字符串\n",
    "#### 4.1 `str.islower()` `str.title()` `str.find()` `str.count()`\n",
    "#### 4.2 `str.format()` \n",
    "格式化字符串\n",
    "#### 4.3 `str.split(' ', maxsplit)` `' '.join(list)`\n",
    "分割字符串      \n",
    "##### 4.3.1`str` 与 `list` 之间转换\n",
    "#### 4.4 `str.replace(pre_str, str)`  \n",
    "字符串中替换字符（字符串是不可变的类型）\n",
    "#### 4.5  `list(str) `\n",
    "将字符串转换为字符列表"
   ]
  },
  {
   "cell_type": "code",
   "execution_count": 2,
   "metadata": {
    "hidden": true
   },
   "outputs": [
    {
     "name": "stdout",
     "output_type": "stream",
     "text": [
      "True\n",
      "Hello World\n",
      "2\n",
      "3\n"
     ]
    }
   ],
   "source": [
    "# 4.1\n",
    "my_string = \"hello world\"\n",
    "print(my_string.islower())\n",
    "print(my_string.title())\n",
    "print(my_string.find('l'))\n",
    "print(my_string.count(\"l\"))"
   ]
  },
  {
   "cell_type": "code",
   "execution_count": 14,
   "metadata": {
    "hidden": true
   },
   "outputs": [
    {
     "name": "stdout",
     "output_type": "stream",
     "text": [
      "my string is hello world         \n"
     ]
    }
   ],
   "source": [
    "# 4.2\n",
    "# {0:^><100}\n",
    "str = \"my string is {0:<20}\".format(my_string)\n",
    "print(str)"
   ]
  },
  {
   "cell_type": "code",
   "execution_count": 41,
   "metadata": {
    "hidden": true
   },
   "outputs": [
    {
     "data": {
      "text/plain": [
       "['i', 'love', 'python', 'and numpy']"
      ]
     },
     "execution_count": 41,
     "metadata": {},
     "output_type": "execute_result"
    }
   ],
   "source": [
    "# 4.3\n",
    "my_string = \"i love python and numpy\"\n",
    "# maxspilt参数分割出maxsplit个部分\n",
    "my_string.split(' ', 3)"
   ]
  },
  {
   "cell_type": "code",
   "execution_count": 19,
   "metadata": {
    "hidden": true
   },
   "outputs": [
    {
     "name": "stdout",
     "output_type": "stream",
     "text": [
      "great expectations the adventures of sherlock holmes the great gasby hamlet adventures of huckleberry fin\n",
      "['great', 'expectations', 'the', 'adventures', 'of', 'sherlock', 'holmes', 'the', 'great', 'gasby', 'hamlet', 'adventures', 'of', 'huckleberry', 'fin']\n"
     ]
    }
   ],
   "source": [
    "# 4.3.1\n",
    "book_title_list =  ['great', 'expectations','the', 'adventures', 'of', 'sherlock','holmes','the','great','gasby','hamlet','adventures','of','huckleberry','fin']\n",
    "book_title_str = \" \".join(book_title_list)\n",
    "print(book_title_str)\n",
    "book_title_list = book_title_str.split(\" \")\n",
    "print(book_title_list)"
   ]
  },
  {
   "cell_type": "code",
   "execution_count": 20,
   "metadata": {
    "hidden": true
   },
   "outputs": [
    {
     "name": "stdout",
     "output_type": "stream",
     "text": [
      "joey_tribbiani\n"
     ]
    }
   ],
   "source": [
    "# 4.4\n",
    "# for循环修改列表\n",
    "my_name = \"Joey Tribbiani\"\n",
    "username = my_name.lower().replace(' ', '_')\n",
    "\n",
    "print(username)"
   ]
  },
  {
   "cell_type": "code",
   "execution_count": 2,
   "metadata": {
    "hidden": true
   },
   "outputs": [
    {
     "name": "stdout",
     "output_type": "stream",
     "text": [
      "h\n",
      "e\n",
      "l\n",
      "l\n",
      "o\n",
      "h\n",
      "e\n",
      "l\n",
      "l\n",
      "o\n"
     ]
    }
   ],
   "source": [
    "# 4.5\n",
    "# 字符串拆分成单个字符\n",
    "my_str = \"hello\"\n",
    "my_list = list(my_str)\n",
    "\n",
    "for i in my_list:\n",
    "    print(i)\n",
    "\n",
    "for i in range(len(my_str)):\n",
    "    print(my_str[i])"
   ]
  },
  {
   "cell_type": "markdown",
   "metadata": {
    "heading_collapsed": true
   },
   "source": [
    "### 5 列表\n",
    "列表和字符串都是有序的，列表是可变的，**字符串是不可变的**\n",
    "#### 5.1 字符串是不可变的对象\n",
    "#### 5.2 `in` and `not in `\n",
    "判断元素是否包含列表或者字符串中\n",
    "#### 5.3 `list.sort()` or `sorted(list)`\n",
    "#### 5.4 `list.pop()`\n",
    "删除最后一个元素并返回其值\n",
    "#### 5.5 `' '.join(list)`\n",
    "连接字符串、列表、元组、集合、字典中的元素\n",
    "##### 5.5.1 利用 `os.path.join()` 合并目录"
   ]
  },
  {
   "cell_type": "code",
   "execution_count": null,
   "metadata": {
    "hidden": true
   },
   "outputs": [],
   "source": [
    "# 5.1\n",
    "sentence1 = \"I wish to register a complaint.\"\n",
    "sentence1[30] = '!'"
   ]
  },
  {
   "cell_type": "code",
   "execution_count": 45,
   "metadata": {
    "hidden": true
   },
   "outputs": [
    {
     "name": "stdout",
     "output_type": "stream",
     "text": [
      "True\n",
      "False\n"
     ]
    }
   ],
   "source": [
    "# 5.2\n",
    "my_list = [\"hello world\", 2, 3]\n",
    "my_string = \"hello world\"\n",
    "print(2 in my_list)\n",
    "print('h' not in my_string)"
   ]
  },
  {
   "cell_type": "code",
   "execution_count": 21,
   "metadata": {
    "hidden": true
   },
   "outputs": [
    {
     "name": "stdout",
     "output_type": "stream",
     "text": [
      "[1, 3, 3, 4, 7, 8]\n"
     ]
    }
   ],
   "source": [
    "# 5.3\n",
    "my_list = [4, 1, 7, 3, 8, 3]\n",
    "my_list.sort()\n",
    "print(my_list)"
   ]
  },
  {
   "cell_type": "code",
   "execution_count": 22,
   "metadata": {
    "hidden": true
   },
   "outputs": [
    {
     "name": "stdout",
     "output_type": "stream",
     "text": [
      "[4, 11] [10, 8, 2, 13, 5, 8]\n"
     ]
    }
   ],
   "source": [
    "# 5.4\n",
    "card_deck = [4, 11, 8, 5, 13, 2, 8, 10]\n",
    "hand = []\n",
    "\n",
    "while sum(hand) <= 40:\n",
    "    # 将列表中删除的元素返回到一个新列表中\n",
    "    hand.append(card_deck.pop())\n",
    "\n",
    "print(card_deck,hand)"
   ]
  },
  {
   "cell_type": "code",
   "execution_count": 61,
   "metadata": {
    "hidden": true
   },
   "outputs": [
    {
     "name": "stdout",
     "output_type": "stream",
     "text": [
      "helloworld!\n",
      "h-e-l-l-o- -w-o-r-l-d-!\n"
     ]
    }
   ],
   "source": [
    "# 5.5\n",
    "my_str = \"\".join([\"hello\", \"world\", \"!\"])\n",
    "print(my_str)\n",
    "my_str_str = '-'.join(\"hello world!\")\n",
    "print(my_str_str)"
   ]
  },
  {
   "cell_type": "code",
   "execution_count": 66,
   "metadata": {
    "hidden": true
   },
   "outputs": [
    {
     "name": "stdout",
     "output_type": "stream",
     "text": [
      "/home/b406/desktop/n.exe\n"
     ]
    }
   ],
   "source": [
    "# 5.5.1\n",
    "import os\n",
    "file_name = \"n.exe\"\n",
    "PATH = os.path.join('/home', 'b406', 'desktop',file_name )\n",
    "print(PATH)"
   ]
  },
  {
   "cell_type": "markdown",
   "metadata": {
    "heading_collapsed": true
   },
   "source": [
    "### 6 元组\n",
    "元组是有序不可变序列\n",
    "#### 6.1 元组拆包分配给多个变量"
   ]
  },
  {
   "cell_type": "code",
   "execution_count": 4,
   "metadata": {
    "hidden": true
   },
   "outputs": [
    {
     "name": "stdout",
     "output_type": "stream",
     "text": [
      "面积为52x40x100。\n"
     ]
    }
   ],
   "source": [
    "# 6.1\n",
    "# 元组的()可以省略\n",
    "my_tuple = 52, 40, 100\n",
    "length, width, height = my_tuple\n",
    "print(\"面积为{}x{}x{}。\".format(length, width, height))"
   ]
  },
  {
   "cell_type": "markdown",
   "metadata": {
    "heading_collapsed": true
   },
   "source": [
    "### 7 集合(set) `{a, b, ...}`\n",
    "集合是无序可变不重复的序列\n",
    "#### 7.1 `set(iterable)`\n",
    "#### 7.2 `set.add()` and `set.pop()`"
   ]
  },
  {
   "cell_type": "code",
   "execution_count": 6,
   "metadata": {
    "hidden": true
   },
   "outputs": [
    {
     "name": "stdout",
     "output_type": "stream",
     "text": [
      "{1, 2, 3, 4}\n"
     ]
    }
   ],
   "source": [
    "# 7.1\n",
    "my_list = [1, 2, 2, 3, 3, 4]\n",
    "my_set = set(my_list)\n",
    "print(my_set)"
   ]
  },
  {
   "cell_type": "code",
   "execution_count": 7,
   "metadata": {
    "hidden": true
   },
   "outputs": [
    {
     "name": "stdout",
     "output_type": "stream",
     "text": [
      "{1, 2, 3, 4, 5}\n",
      "{2, 3, 4, 5}\n"
     ]
    }
   ],
   "source": [
    "# 7.2\n",
    "my_set.add(5)\n",
    "print(my_set)\n",
    "# 无序所以随机删除\n",
    "my_set.pop()\n",
    "print(my_set)"
   ]
  },
  {
   "cell_type": "markdown",
   "metadata": {
    "heading_collapsed": true
   },
   "source": [
    "### 8 字典：键与值\n",
    "字典是可变有序（python3.6）序列      \n",
    "字典的键必须是不可变的类型       \n",
    "字典的值可以是list等可变类型\n",
    "#### 8.1 字典中添加元素\n",
    "#### 8.2 `dict.items()`\n",
    "返回元组(key, value)的列表\n",
    "#### 8.3 `key in dict` or `dict.get(key, None)`\n",
    "检查键是否在字典中/根据键查找值\n",
    "##### 8.3.1 `dict.get(key, None)` 自定义返回值的应用\n",
    "#### 8.4 `is` 与 `is not` 运算符\n",
    "#### 8.5 字典的嵌套\n"
   ]
  },
  {
   "cell_type": "code",
   "execution_count": 2,
   "metadata": {
    "hidden": true
   },
   "outputs": [
    {
     "name": "stdout",
     "output_type": "stream",
     "text": [
      "{'name': 'zuoyiming', 'age': [18, 25], 'gender': 'man', 'grad': 'S'}\n"
     ]
    }
   ],
   "source": [
    "# 8.1\n",
    "my_dict = {\"name\":\"zuoyiming\",\n",
    "           \"age\":[18, 25],\n",
    "           \"gender\":\"man\"}\n",
    "# 添加元素\n",
    "my_dict[\"grad\"] = 'S'\n",
    "print(my_dict)"
   ]
  },
  {
   "cell_type": "code",
   "execution_count": 3,
   "metadata": {
    "hidden": true
   },
   "outputs": [
    {
     "name": "stdout",
     "output_type": "stream",
     "text": [
      "   name   :\tzuoyiming\n",
      "   age    :\t[18, 25]\n",
      "  gender  :\tman\n",
      "   grad   :\tS\n"
     ]
    }
   ],
   "source": [
    "# 8.2\n",
    "# 遍历字典的 key 和 value\n",
    "for key, value in my_dict.items():\n",
    "    print(\"{0:^10}:\\t{1:}\".format(key, value))"
   ]
  },
  {
   "cell_type": "code",
   "execution_count": 7,
   "metadata": {
    "hidden": true
   },
   "outputs": [
    {
     "name": "stdout",
     "output_type": "stream",
     "text": [
      "True\n",
      "0\n"
     ]
    }
   ],
   "source": [
    "# 8.3\n",
    "# 检查键是否在字典中\n",
    "print(\"name\" in my_dict)\n",
    "# get()方法:根据键查找值， 与[]不同，不存在的键默认返回None，也可以通过参数自定义\n",
    "print(my_dict.get(\"region\", 0))"
   ]
  },
  {
   "cell_type": "code",
   "execution_count": null,
   "metadata": {
    "hidden": true
   },
   "outputs": [],
   "source": [
    "# 8.3.1\n",
    "# get() 方法应用：计数\n",
    "book_title_list =  ['great', 'expectations','the', 'adventures', 'of', 'sherlock','holmes','the','great','gasby','hamlet','adventures','of','huckleberry','fin']\n",
    "word_counter = {}\n",
    "\n",
    "for word in book_title_list:\n",
    "    # 如若字典中无 word 值返回0，进而加1，反之返回已有数量，进而加1\n",
    "    word_counter[word] = word_counter.get(word, 0) + 1\n",
    "        \n",
    "print(word_counter)"
   ]
  },
  {
   "cell_type": "code",
   "execution_count": 5,
   "metadata": {
    "hidden": true
   },
   "outputs": [
    {
     "name": "stdout",
     "output_type": "stream",
     "text": [
      "True\n"
     ]
    }
   ],
   "source": [
    "# 8.4\n",
    "# is 与 is not 运算符\n",
    "n = my_dict.get(\"name\")\n",
    "print(my_dict is not None)\n",
    "# is 与 == 区别：==是检查两者的值，is则是检查两者的内存地址"
   ]
  },
  {
   "cell_type": "code",
   "execution_count": 100,
   "metadata": {
    "hidden": true
   },
   "outputs": [
    {
     "name": "stdout",
     "output_type": "stream",
     "text": [
      "18\n"
     ]
    }
   ],
   "source": [
    "# 8.5\n",
    "# 字典的嵌套\n",
    "compound_dict = {\n",
    "    \"xiaoming\":{\"name\":\"xiaoming\",\n",
    "               \"age\":18,\n",
    "               \"gender\":\"man\"},\n",
    "    \"xiaohong\":{\"name\":\"xiaohong\",\n",
    "               \"age\":20,\n",
    "               \"gender\":\"woman\"}    \n",
    "}\n",
    "print(compound_dict.get(\"xiaoming\").get(\"age\"))"
   ]
  },
  {
   "cell_type": "markdown",
   "metadata": {},
   "source": [
    "### <center>Summary</center>       \n",
    "![1](./media/1.jpg)"
   ]
  }
 ],
 "metadata": {
  "kernelspec": {
   "display_name": "Python 3",
   "language": "python",
   "name": "python3"
  },
  "language_info": {
   "codemirror_mode": {
    "name": "ipython",
    "version": 3
   },
   "file_extension": ".py",
   "mimetype": "text/x-python",
   "name": "python",
   "nbconvert_exporter": "python",
   "pygments_lexer": "ipython3",
   "version": "3.7.4"
  },
  "varInspector": {
   "cols": {
    "lenName": 16,
    "lenType": 16,
    "lenVar": 40
   },
   "kernels_config": {
    "python": {
     "delete_cmd_postfix": "",
     "delete_cmd_prefix": "del ",
     "library": "var_list.py",
     "varRefreshCmd": "print(var_dic_list())"
    },
    "r": {
     "delete_cmd_postfix": ") ",
     "delete_cmd_prefix": "rm(",
     "library": "var_list.r",
     "varRefreshCmd": "cat(var_dic_list()) "
    }
   },
   "oldHeight": 122,
   "position": {
    "height": "144px",
    "left": "1575px",
    "right": "20px",
    "top": "122px",
    "width": "350px"
   },
   "types_to_exclude": [
    "module",
    "function",
    "builtin_function_or_method",
    "instance",
    "_Feature"
   ],
   "varInspector_section_display": "block",
   "window_display": false
  }
 },
 "nbformat": 4,
 "nbformat_minor": 2
}
