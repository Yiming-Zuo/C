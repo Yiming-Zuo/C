{
 "cells": [
  {
   "cell_type": "markdown",
   "metadata": {
    "heading_collapsed": true
   },
   "source": [
    "### 1 从用户处获取原始输入\n",
    "#### 1.1 `int(input(str))`\n",
    "#### 1.2  `eval(str)`\n",
    "eval 方法能使字符串本身的引号去掉，保留字符的原本属性。"
   ]
  },
  {
   "cell_type": "code",
   "execution_count": 1,
   "metadata": {
    "hidden": true
   },
   "outputs": [
    {
     "name": "stdout",
     "output_type": "stream",
     "text": [
      "num:1\n",
      "num:1\n"
     ]
    }
   ],
   "source": [
    "# 1.1\n",
    "num = int(input(\"num:\"))\n",
    "# 1.2\n",
    "# input()中必须是''\n",
    "num = eval(\"input('num:')\")"
   ]
  },
  {
   "cell_type": "markdown",
   "metadata": {
    "heading_collapsed": true
   },
   "source": [
    "### 2 语法错误与异常\n",
    "#### 2.1 `try` 声明：处理异常\n",
    "利用 `while` 循环和 `try` 声明 直到用户输入正确的数值\n",
    "##### 2.1.1 `except Exception as e`\n",
    "访问错误信息\n",
    "##### 2.1.2 捕获多个错误\n"
   ]
  },
  {
   "cell_type": "code",
   "execution_count": null,
   "metadata": {
    "hidden": true
   },
   "outputs": [],
   "source": []
  },
  {
   "cell_type": "code",
   "execution_count": 1,
   "metadata": {
    "hidden": true
   },
   "outputs": [
    {
     "name": "stdout",
     "output_type": "stream",
     "text": [
      "Enter a number:s\n",
      "invalid literal for int() with base 10: 's'\n",
      "That's not a valid number!\n",
      "Enter a number:1\n"
     ]
    }
   ],
   "source": [
    "# 2.1\n",
    "while True:\n",
    "    try:\n",
    "        x = int(input('Enter a number:'))\n",
    "        # try block 所有代码成功执行后退出循环\n",
    "        break\n",
    "    # 捕获多个指定异常\n",
    "    # 2.1.1\n",
    "    # 访问错误信息\n",
    "    except (ValueError, KeyboardInterrupt) as e:\n",
    "        print('{}\\nThat\\'s not a valid number!'.format(e))\n",
    "#     # 2.1.2\n",
    "#     except KeyboardInterrupt:\n",
    "#         print('\\nNo input taken')\n",
    "#         break\n",
    "#     finally:\n",
    "#         print('received!')"
   ]
  },
  {
   "cell_type": "markdown",
   "metadata": {
    "heading_collapsed": true
   },
   "source": [
    "### 3 文件读写\n",
    "#### 3.1 读取文件 \n",
    "#### 3.1.1 `f.read(int)`\n",
    "从文件中读取固定数目的字符\n",
    "#### `f.readline()` or `for line in f`\n",
    "按行读取文件\n",
    "#### 3.1.2 `for line in f`\n",
    "### 3.2 写入文件 `w` or `a`\n",
    "#### 3.2.1 创建文件行列表\n",
    "### 3.3 `with open(PATH, ' ') as f:`\n",
    "使用 `with` 读写文件 - 执行完成缩进部分后自动关闭文件"
   ]
  },
  {
   "cell_type": "code",
   "execution_count": 5,
   "metadata": {
    "hidden": true
   },
   "outputs": [
    {
     "name": "stdout",
     "output_type": "stream",
     "text": [
      "Hello!!\n",
      "\n",
      "You've read the contents of this file!\n"
     ]
    }
   ],
   "source": [
    "# 3.1\n",
    "# 创建文件对象\n",
    "f = open('./some_file.txt', 'r')\n",
    "file_data= f.read()\n",
    "print(file_data)\n",
    "f.close()"
   ]
  },
  {
   "cell_type": "code",
   "execution_count": 4,
   "metadata": {
    "hidden": true
   },
   "outputs": [
    {
     "name": "stdout",
     "output_type": "stream",
     "text": [
      "He\n",
      "llo\n",
      "!!\n",
      "\n",
      "Y\n"
     ]
    }
   ],
   "source": [
    "# 3.1.1\n",
    "with open('./some_file.txt', 'r') as f:\n",
    "    print(f.read(2))\n",
    "    print(f.read(3))\n",
    "    print(f.read(5))"
   ]
  },
  {
   "cell_type": "code",
   "execution_count": 5,
   "metadata": {
    "hidden": true
   },
   "outputs": [
    {
     "name": "stdout",
     "output_type": "stream",
     "text": [
      "Hello!!\n",
      "\n"
     ]
    }
   ],
   "source": [
    "# 3.1.2\n",
    "with open('./some_file.txt', 'r') as f:\n",
    "    print(f.readline())"
   ]
  },
  {
   "cell_type": "code",
   "execution_count": 7,
   "metadata": {
    "hidden": true
   },
   "outputs": [],
   "source": [
    "# 3.2\n",
    "f = open('./some_file.txt', 'a')\n",
    "word = '\\nbyebye'\n",
    "f.write(word)\n",
    "f.close()"
   ]
  },
  {
   "cell_type": "code",
   "execution_count": 10,
   "metadata": {
    "hidden": true
   },
   "outputs": [
    {
     "name": "stdout",
     "output_type": "stream",
     "text": [
      "['Hello!!', '', \"You've read the contents of this file!\", 'byebye']\n"
     ]
    }
   ],
   "source": [
    "# 3.2.1\n",
    "file_data_lines = []\n",
    "with open(\"some_file.txt\") as f:\n",
    "    for line in f:\n",
    "        file_data_lines.append(line.strip())\n",
    "        \n",
    "print(file_data_lines)"
   ]
  },
  {
   "cell_type": "code",
   "execution_count": 2,
   "metadata": {
    "hidden": true
   },
   "outputs": [
    {
     "name": "stdout",
     "output_type": "stream",
     "text": [
      "Hello!!\n",
      "\n",
      "You've read the contents of this file!\n",
      "byebye\n"
     ]
    }
   ],
   "source": [
    "# 3.3\n",
    "with open('./some_file.txt', 'r') as f:\n",
    "    file_data = f.read()\n",
    "    print(file_data)"
   ]
  },
  {
   "cell_type": "markdown",
   "metadata": {
    "heading_collapsed": true
   },
   "source": [
    "### 4 标准库\n",
    "#### 4.1 导入本地模块\n",
    "#### 4.1.1 本地模块测试\n",
    "```python\n",
    "if __name__ == `__main__:\n",
    "    main()\n",
    "```\n",
    "#### 4.2 常用模块\n",
    "* `csv`：非常方便读取和写入csv文件\n",
    "* `collections`：通常的数据类型的有用的扩展，包括`OrderedDict`，`defaultdict`和`namedtuple`\n",
    "* `random`：生成伪随机数，随机洗牌序列并选择随机项\n",
    "* `string`：更多关于字符串的功能。该模块还包含有用的字母集合，例如`string.digits`（一个字符串，其中包含所有有效数字的字符）。\n",
    "* `re`：通过正则表达式在字符串中进行模式匹配\n",
    "* `math`：一些标准的数学函数\n",
    "* `os`：与操作系统交互\n",
    "* `os.path`：os用于处理路径名的子模块\n",
    "* `sys`：直接与Python解释器一起使用\n",
    "* `json`：适用于读写json文件（适用于网络工作）\n",
    "#### 4.3 导入模块的技巧\n",
    "* `from module_name import first_object, second_object`\n",
    "从模块中导入多个对象\n"
   ]
  },
  {
   "cell_type": "code",
   "execution_count": 7,
   "metadata": {
    "hidden": true
   },
   "outputs": [
    {
     "data": {
      "text/plain": [
       "[6, 7, 8]"
      ]
     },
     "execution_count": 7,
     "metadata": {},
     "output_type": "execute_result"
    }
   ],
   "source": [
    "# 4.1.1\n",
    "import useful_functions as uf\n",
    "uf.add_five([1,2,3])"
   ]
  },
  {
   "cell_type": "markdown",
   "metadata": {},
   "source": [
    "### 5 第三方库\n",
    "#### 5.1 requirements.txt 文件 - 一次安装项目所有依赖项\n",
    "```txt\n",
    "beautifulsoup4==4.5.1\n",
    "bs4==0.0.1\n",
    "pytz==2016.7\n",
    "requests==2.11.1\n",
    "```\n",
    "导出： `pip freeze > requirements.txt`\n",
    "安装： `pip install -r requirements.txt``\n",
    "#### 5.2 常用第三方模块\n",
    "* `IPython`-更好的交互式Python解释器\n",
    "* `requests`-提供易于使用的方法来发出Web请求。用于访问Web API。\n",
    "* `Flask`-用于制作Web应用程序和API的轻量级框架。\n",
    "* `Django`-一种用于制作Web应用程序的更多的其他功能框架。Django特别适合设计复杂，内容繁重的Web应用程序。\n",
    "* `Beautiful Soup` -用于解析HTML并从中提取信息。非常适合网页抓取。\n",
    "* `pytest`-扩展Python的内置断言和unittest模块。\n",
    "* `PyYAML`-用于读取和写入YAML文件。\n",
    "* `NumPy`-使用Python进行科学计算的基本软件包。它包含强大的N维数组对象和有用的线性代数功能。\n",
    "* `pandas`-一个包含高性能，数据结构和数据分析工具的库。特别是，`pandas` 提供数据帧！\n",
    "* `matplotlib`-一个2D绘图库，它以各种硬拷贝格式和交互式环境生成出版物质量的图形。\n",
    "* `ggplot`-另一个2D绘图库，基于R的ggplot2库。\n",
    "* `Pillow`-Python Imaging Library向您的Python解释器添加了图像处理功能。\n",
    "* `pyglet`-用于游戏开发的跨平台应用程序框架。\n",
    "* `Pygame`-设计用于编写游戏的一组Python模块。\n",
    "* `pytz`-Python的世界时区定义"
   ]
  }
 ],
 "metadata": {
  "kernelspec": {
   "display_name": "Python 3",
   "language": "python",
   "name": "python3"
  },
  "language_info": {
   "codemirror_mode": {
    "name": "ipython",
    "version": 3
   },
   "file_extension": ".py",
   "mimetype": "text/x-python",
   "name": "python",
   "nbconvert_exporter": "python",
   "pygments_lexer": "ipython3",
   "version": "3.7.4"
  },
  "varInspector": {
   "cols": {
    "lenName": 16,
    "lenType": 16,
    "lenVar": 40
   },
   "kernels_config": {
    "python": {
     "delete_cmd_postfix": "",
     "delete_cmd_prefix": "del ",
     "library": "var_list.py",
     "varRefreshCmd": "print(var_dic_list())"
    },
    "r": {
     "delete_cmd_postfix": ") ",
     "delete_cmd_prefix": "rm(",
     "library": "var_list.r",
     "varRefreshCmd": "cat(var_dic_list()) "
    }
   },
   "types_to_exclude": [
    "module",
    "function",
    "builtin_function_or_method",
    "instance",
    "_Feature"
   ],
   "window_display": false
  }
 },
 "nbformat": 4,
 "nbformat_minor": 2
}
