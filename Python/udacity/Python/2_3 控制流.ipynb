{
 "cells": [
  {
   "cell_type": "markdown",
   "metadata": {
    "heading_collapsed": true
   },
   "source": [
    "### 1 python中被视为 Flase 的内置对象\n",
    "* 常数: `None, Flase`\n",
    "* 任何形式的0: `0, 0.0, 0j`\n",
    "* 空集合或序列: `\"\", (), [], {}, set(), range(0)`"
   ]
  },
  {
   "cell_type": "markdown",
   "metadata": {
    "heading_collapsed": true
   },
   "source": [
    "### 2 for循环\n",
    "#### 2.1 `range(start=0, stop, step=1)`\n",
    "#### 2.2 使用 for 循环快速创建列表\n",
    "`[i**2 for i in range(9) if ...]` or `[i**2 if ... else ... for i in range(9)]`"
   ]
  },
  {
   "cell_type": "code",
   "execution_count": 23,
   "metadata": {
    "hidden": true
   },
   "outputs": [
    {
     "name": "stdout",
     "output_type": "stream",
     "text": [
      "5\n",
      "10\n",
      "15\n",
      "20\n",
      "25\n",
      "30\n"
     ]
    }
   ],
   "source": [
    "# 2.1\n",
    "# 5的倍数\n",
    "for i in range(5, 35, 5):\n",
    "    print(i)"
   ]
  },
  {
   "cell_type": "code",
   "execution_count": 1,
   "metadata": {
    "hidden": true
   },
   "outputs": [
    {
     "name": "stdout",
     "output_type": "stream",
     "text": [
      "[0, 4, 16, 36, 64]\n",
      "[0, 4, 4, 6, 16, 8, 36, 10, 64]\n"
     ]
    }
   ],
   "source": [
    "# 2.2\n",
    "squares = [x**2 for x in range(9) if x % 2 == 0]\n",
    "print(squares)\n",
    "\n",
    "# 加入 else\n",
    "squares = [x**2 if x % 2 == 0 else x + 3 for x in range(9)]\n",
    "print(squares)"
   ]
  },
  {
   "cell_type": "markdown",
   "metadata": {
    "heading_collapsed": true
   },
   "source": [
    "### 3 while循环\n",
    "`break` - 终止循环       \n",
    "`continue` - 跳过一个循环"
   ]
  },
  {
   "cell_type": "code",
   "execution_count": 2,
   "metadata": {
    "hidden": true
   },
   "outputs": [
    {
     "name": "stdout",
     "output_type": "stream",
     "text": [
      "adding bananas (15)\n",
      "adding mattresses (24)\n",
      "adding dog kennels (42)\n",
      "skipping machine (120)\n",
      "adding cheeses (5)\n",
      "skipping milk (20)\n",
      "\n",
      "Final Weight: 86\n",
      "Final Items: ['bananas', 'mattresses', 'dog kennels', 'cheeses']\n"
     ]
    }
   ],
   "source": [
    "manifest = [(\"bananas\", 15), (\"mattresses\", 24), (\"dog kennels\", 42), (\"machine\", 120), (\"cheeses\", 5), (\"milk\", 20)]\n",
    "weight = 0\n",
    "items = []\n",
    "\n",
    "for cargo_name, cargo_weight in manifest:\n",
    "#     if weight >= 100:\n",
    "#         print(\"breaking from the loop now!\")\n",
    "#         break\n",
    "    # 当加入当前货物超重时 continue 跳出当前循环进入下一货物循环\n",
    "    if weight + cargo_weight > 100:\n",
    "        print(\"skipping {} ({})\".format(cargo_name, cargo_weight))\n",
    "        continue\n",
    "    else:\n",
    "        print(\"adding {} ({})\".format(cargo_name, cargo_weight))\n",
    "        items.append(cargo_name)\n",
    "        weight += cargo_weight\n",
    "\n",
    "print(\"\\nFinal Weight: {}\".format(weight))\n",
    "print(\"Final Items: {}\".format(items))"
   ]
  },
  {
   "cell_type": "markdown",
   "metadata": {
    "heading_collapsed": true
   },
   "source": [
    "### 4 zip 和 enumerate\n",
    "#### 4.1 `zip(iterable, iterable, ...)`\n",
    "将一个或多个可迭代得对象组合成一个元组序列的迭代器，每个元组包含每个可迭代对象在该位置得元素\n",
    "##### 4.1.1 `*iterable` 解包\n",
    "#### 4.2 `enumerate(iterable)` 枚举,返回包含该列表的索引和值的元组的迭代器\n",
    "##### 4.2.1 运用 `enumerate()` 拼接字符串列表中的字符串和数字列表中的数字\n"
   ]
  },
  {
   "cell_type": "code",
   "execution_count": 33,
   "metadata": {
    "hidden": true
   },
   "outputs": [
    {
     "name": "stdout",
     "output_type": "stream",
     "text": [
      "('a', 1)\n",
      "('b', 2)\n",
      "('c', 3)\n"
     ]
    }
   ],
   "source": [
    "# 4.1\n",
    "example = zip(['a', 'b', 'c'], [1, 2, 3])\n",
    "for tuple in example:\n",
    "    print(tuple)"
   ]
  },
  {
   "cell_type": "code",
   "execution_count": 46,
   "metadata": {
    "hidden": true
   },
   "outputs": [
    {
     "name": "stdout",
     "output_type": "stream",
     "text": [
      "1 2 3\n",
      "h e l l o\n",
      "1 2 3\n"
     ]
    }
   ],
   "source": [
    "# 4.1.1\n",
    "my_list = [1, 2, 3]\n",
    "my_str = \"hello\"\n",
    "my_tuple = (1, 2, 3)\n",
    "print(*my_list)\n",
    "print(*my_str)\n",
    "print(*my_tuple)"
   ]
  },
  {
   "cell_type": "code",
   "execution_count": 56,
   "metadata": {
    "hidden": true
   },
   "outputs": [
    {
     "name": "stdout",
     "output_type": "stream",
     "text": [
      "0 a\n",
      "1 b\n",
      "2 c\n",
      "3 d\n",
      "4 e\n"
     ]
    }
   ],
   "source": [
    "# 4.2\n",
    "letters = ['a', 'b', 'c', 'd', 'e']\n",
    "for i, letter in enumerate(letters):\n",
    "    print(i, letter)"
   ]
  },
  {
   "cell_type": "code",
   "execution_count": 47,
   "metadata": {
    "hidden": true
   },
   "outputs": [
    {
     "name": "stdout",
     "output_type": "stream",
     "text": [
      "['Barney Stinson 72', 'Robin Scherbatsky 68', 'Ted Mosby 72', 'Lily Aldrin 66', 'Marshall Eriksen 76']\n"
     ]
    }
   ],
   "source": [
    "# 4.2.1\n",
    "cast = [\"Barney Stinson\", \"Robin Scherbatsky\", \"Ted Mosby\", \"Lily Aldrin\", \"Marshall Eriksen\"]\n",
    "heights = [72, 68, 72, 66, 76]\n",
    "\n",
    "for i, character in enumerate(cast):\n",
    "    # 运用 enumerate() 将列表1中得字符串与列表2中的数字拼接\n",
    "    cast[i] = character + ' ' + str(heights[i])\n",
    "\n",
    "print(cast)"
   ]
  }
 ],
 "metadata": {
  "kernelspec": {
   "display_name": "Python 3",
   "language": "python",
   "name": "python3"
  },
  "language_info": {
   "codemirror_mode": {
    "name": "ipython",
    "version": 3
   },
   "file_extension": ".py",
   "mimetype": "text/x-python",
   "name": "python",
   "nbconvert_exporter": "python",
   "pygments_lexer": "ipython3",
   "version": "3.7.4"
  },
  "varInspector": {
   "cols": {
    "lenName": 16,
    "lenType": 16,
    "lenVar": 40
   },
   "kernels_config": {
    "python": {
     "delete_cmd_postfix": "",
     "delete_cmd_prefix": "del ",
     "library": "var_list.py",
     "varRefreshCmd": "print(var_dic_list())"
    },
    "r": {
     "delete_cmd_postfix": ") ",
     "delete_cmd_prefix": "rm(",
     "library": "var_list.r",
     "varRefreshCmd": "cat(var_dic_list()) "
    }
   },
   "types_to_exclude": [
    "module",
    "function",
    "builtin_function_or_method",
    "instance",
    "_Feature"
   ],
   "window_display": false
  }
 },
 "nbformat": 4,
 "nbformat_minor": 2
}
