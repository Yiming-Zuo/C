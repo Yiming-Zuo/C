{
 "cells": [
  {
   "cell_type": "markdown",
   "metadata": {
    "heading_collapsed": true
   },
   "source": [
    "### 1 函数的参数\n",
    "#### 1.1 默认参数\n",
    "#### 1.2 按参数名传递参数"
   ]
  },
  {
   "cell_type": "code",
   "execution_count": 9,
   "metadata": {
    "hidden": true
   },
   "outputs": [],
   "source": [
    "# 1.1 默认参数\n",
    "def get_area(length=2, width=3, height=5):\n",
    "    return length*width*height"
   ]
  },
  {
   "cell_type": "code",
   "execution_count": 11,
   "metadata": {
    "hidden": true
   },
   "outputs": [
    {
     "name": "stdout",
     "output_type": "stream",
     "text": [
      "50\n"
     ]
    }
   ],
   "source": [
    "# 1.2 按参数名传递参数\n",
    "area = get_area(width=5)\n",
    "print(area)"
   ]
  },
  {
   "cell_type": "markdown",
   "metadata": {
    "heading_collapsed": true
   },
   "source": [
    "### 2 变量的作用域\n",
    "#### 2.1 函数内不允许修改全局变量"
   ]
  },
  {
   "cell_type": "code",
   "execution_count": 39,
   "metadata": {
    "hidden": true
   },
   "outputs": [
    {
     "name": "stdout",
     "output_type": "stream",
     "text": [
      "12\n"
     ]
    }
   ],
   "source": [
    "# 2.1\n",
    "egg_count = 0\n",
    "# # 不允许函数修改不在函数范围内的变量\n",
    "# def buy_eggs():\n",
    "#     egg_count += 12\n",
    "\n",
    "# 可以将全局变量作为参数传递进而修改它的值\n",
    "def buy_eggs_2(count):\n",
    "    return count + 12\n",
    "    \n",
    "# buy_eggs()\n",
    "egg_count = buy_eggs_2(egg_count)\n",
    "print(egg_count)"
   ]
  },
  {
   "cell_type": "markdown",
   "metadata": {
    "heading_collapsed": true
   },
   "source": [
    "### 3 文档"
   ]
  },
  {
   "cell_type": "code",
   "execution_count": 40,
   "metadata": {
    "hidden": true
   },
   "outputs": [],
   "source": [
    "def population_density(population, land_area):\n",
    "    \"\"\"计算某块土地的人口密度\n",
    "\n",
    "    PARAMS:\n",
    "    population: 人口数量\n",
    "    land_area: 土地面积\n",
    "    \n",
    "    RETURN: \n",
    "    population_density: 人口密度\n",
    "    \"\"\"\n",
    "    population_density = population / land_area\n",
    "\n",
    "    return population_density"
   ]
  },
  {
   "cell_type": "markdown",
   "metadata": {
    "heading_collapsed": true
   },
   "source": [
    "### 4 Lambda表达式：快速创建匿名函数\n",
    "#### 4.1 `map(function, iterable, ...)`\n",
    "以参数序列中的每一个元素调用 function 函数，返回包含每次 function 函数返回值的迭代器。\n",
    "#### 4.2 `filter(function, iterable)`\n",
    "用于过滤序列，过滤掉不符合条件的元素，并将符合条件的元素返回一个迭代器对象，如果要转换为列表，可以使用 `list()` 来转换。"
   ]
  },
  {
   "cell_type": "code",
   "execution_count": 41,
   "metadata": {
    "hidden": true
   },
   "outputs": [
    {
     "data": {
      "text/plain": [
       "6"
      ]
     },
     "execution_count": 41,
     "metadata": {},
     "output_type": "execute_result"
    }
   ],
   "source": [
    "# 4\n",
    "multiply = lambda x, y: x*y\n",
    "\n",
    "multiply(2, 3)"
   ]
  },
  {
   "cell_type": "code",
   "execution_count": 43,
   "metadata": {
    "hidden": true
   },
   "outputs": [
    {
     "name": "stdout",
     "output_type": "stream",
     "text": [
      "[57.0, 58.2, 50.6, 27.2]\n"
     ]
    }
   ],
   "source": [
    "# 4.1\n",
    "numbers = [\n",
    "              [34, 63, 88, 71, 29],\n",
    "              [90, 78, 51, 27, 45],\n",
    "              [63, 37, 85, 46, 22],\n",
    "              [51, 22, 34, 11, 18]\n",
    "           ]\n",
    "\n",
    "averages = list(map(lambda x: sum(x)/len(x), numbers))\n",
    "print(averages)"
   ]
  },
  {
   "cell_type": "code",
   "execution_count": 1,
   "metadata": {
    "hidden": true
   },
   "outputs": [
    {
     "name": "stdout",
     "output_type": "stream",
     "text": [
      "['Chicago', 'Denver', 'Boston']\n"
     ]
    }
   ],
   "source": [
    "# 4.2\n",
    "cities = [\"New York City\", \"Los Angeles\", \"Chicago\", \"Mountain View\", \"Denver\", \"Boston\"]\n",
    "\n",
    "short_cities = list(filter(lambda x: len(x)<10, cities))\n",
    "\n",
    "print(short_cities)"
   ]
  },
  {
   "cell_type": "markdown",
   "metadata": {
    "heading_collapsed": true
   },
   "source": [
    "## 5 迭代器(Iterators)和生成器(Generators)\n",
    "#### 5.1 迭代器\n",
    "迭代器与可迭代对象不同，迭代器是一个数字流\n",
    "##### 5.1.1 将迭代器对象转换为字典\n",
    "`dict(iterators)`\n",
    "##### 5.1.2 `chunker(iterable, size)` 函数\n",
    "当迭代器太大无法完全容纳在内存时， `chunk()` 接受一个可迭代的函数，并一次生成一部分指定大小的chunk\n",
    "#### 5.2 生成器\n",
    "生成器(带有 `yield()` 函数)使用函数创建迭代器\n",
    "##### 5.2.1 `yield()` 函数\n",
    "`yield()` 函数允许函数一次返回一个值，每次调用的时候都从中断处开始"
   ]
  },
  {
   "cell_type": "code",
   "execution_count": 2,
   "metadata": {
    "hidden": true
   },
   "outputs": [
    {
     "data": {
      "text/plain": [
       "generator"
      ]
     },
     "execution_count": 2,
     "metadata": {},
     "output_type": "execute_result"
    }
   ],
   "source": [
    "# 5.1\n",
    "# 列表对象\n",
    "sq_list = [x**2 for x in range(10)]\n",
    "# 迭代器对象\n",
    "sq_iterator = (x**2 for x in range(10))\n",
    "\n",
    "type(sq_iterator)"
   ]
  },
  {
   "cell_type": "code",
   "execution_count": 1,
   "metadata": {
    "hidden": true
   },
   "outputs": [
    {
     "name": "stdout",
     "output_type": "stream",
     "text": [
      "{'Barney': 72, 'Robin': 68, 'Ted': 72, 'Lily': 66, 'Marshall': 76}\n"
     ]
    }
   ],
   "source": [
    "# 5.1.1\n",
    "cast_names = [\"Barney\", \"Robin\", \"Ted\", \"Lily\", \"Marshall\"]\n",
    "cast_heights = [72, 68, 72, 66, 76]\n",
    "cast = dict(zip(cast_names, cast_heights))\n",
    "\n",
    "print(cast)"
   ]
  },
  {
   "cell_type": "code",
   "execution_count": 68,
   "metadata": {
    "hidden": true
   },
   "outputs": [],
   "source": [
    "# 5.1.2\n",
    "for chunk in chunker(range(25), 4):\n",
    "    print(list(chunk))\n",
    "    \n",
    "[0, 1, 2, 3]\n",
    "[4, 5, 6, 7]\n",
    "[8, 9, 10, 11]\n",
    "[12, 13, 14, 15]\n",
    "[16, 17, 18, 19]\n",
    "[20, 21, 22, 23]\n",
    "[24]"
   ]
  },
  {
   "cell_type": "code",
   "execution_count": 47,
   "metadata": {
    "hidden": true
   },
   "outputs": [
    {
     "name": "stdout",
     "output_type": "stream",
     "text": [
      "0\n",
      "1\n",
      "2\n",
      "3\n",
      "4\n"
     ]
    }
   ],
   "source": [
    "# 5.2\n",
    "def my_generators(x):\n",
    "    \"\"\"生成器：创建一个迭代器\"\"\"\n",
    "    i = 0\n",
    "    # 创建0到x-1的数字流\n",
    "    while i < x:\n",
    "        yield i\n",
    "        i += 1\n",
    "\n",
    "# 遍历迭代器(my_generators(5)是一个迭代器，my_generators()是一个生成器)\n",
    "for x in my_generators(5):\n",
    "    print(x)"
   ]
  }
 ],
 "metadata": {
  "kernelspec": {
   "display_name": "Python 3",
   "language": "python",
   "name": "python3"
  },
  "language_info": {
   "codemirror_mode": {
    "name": "ipython",
    "version": 3
   },
   "file_extension": ".py",
   "mimetype": "text/x-python",
   "name": "python",
   "nbconvert_exporter": "python",
   "pygments_lexer": "ipython3",
   "version": "3.7.4"
  },
  "varInspector": {
   "cols": {
    "lenName": 16,
    "lenType": 16,
    "lenVar": 40
   },
   "kernels_config": {
    "python": {
     "delete_cmd_postfix": "",
     "delete_cmd_prefix": "del ",
     "library": "var_list.py",
     "varRefreshCmd": "print(var_dic_list())"
    },
    "r": {
     "delete_cmd_postfix": ") ",
     "delete_cmd_prefix": "rm(",
     "library": "var_list.r",
     "varRefreshCmd": "cat(var_dic_list()) "
    }
   },
   "types_to_exclude": [
    "module",
    "function",
    "builtin_function_or_method",
    "instance",
    "_Feature"
   ],
   "window_display": false
  }
 },
 "nbformat": 4,
 "nbformat_minor": 2
}
