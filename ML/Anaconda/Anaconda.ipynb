{
 "cells": [
  {
   "cell_type": "markdown",
   "metadata": {
    "heading_collapsed": true
   },
   "source": [
    "## 基本操作\n",
    "### 创建虚拟环境\n",
    "`conda create -n env_name list of packages`\n",
    "### 查看已有环境\n",
    "`conda env list`\n",
    "### 离开环境\n",
    "`conda deactivate`\n",
    "### 卸载已有环境\n",
    "`conda env remove -n env_name`\n",
    "### 安装多个包\n",
    "`conda install numpy pandas`\n",
    "### 卸载包\n",
    "`conda remove package_name`\n",
    "### 搜索包\n",
    "`conda search *beautiful*`\n",
    "### 查看已安装包\n",
    "`!conda list numpy`\n",
    "### 更新所有软件包\n",
    "`conda upgrade --all`\n",
    "`conda update --all`"
   ]
  },
  {
   "cell_type": "markdown",
   "metadata": {
    "heading_collapsed": true
   },
   "source": [
    "## YAML文件\n",
    "### 将环境配置导出\n",
    "`conda env export > ./base.yaml`\n",
    "### 通过YAML文件创建环境\n",
    "`conda env crate -f base.yaml`"
   ]
  }
 ],
 "metadata": {
  "kernelspec": {
   "display_name": "Python 3",
   "language": "python",
   "name": "python3"
  },
  "language_info": {
   "codemirror_mode": {
    "name": "ipython",
    "version": 3
   },
   "file_extension": ".py",
   "mimetype": "text/x-python",
   "name": "python",
   "nbconvert_exporter": "python",
   "pygments_lexer": "ipython3",
   "version": "3.7.4"
  },
  "varInspector": {
   "cols": {
    "lenName": 16,
    "lenType": 16,
    "lenVar": 40
   },
   "kernels_config": {
    "python": {
     "delete_cmd_postfix": "",
     "delete_cmd_prefix": "del ",
     "library": "var_list.py",
     "varRefreshCmd": "print(var_dic_list())"
    },
    "r": {
     "delete_cmd_postfix": ") ",
     "delete_cmd_prefix": "rm(",
     "library": "var_list.r",
     "varRefreshCmd": "cat(var_dic_list()) "
    }
   },
   "types_to_exclude": [
    "module",
    "function",
    "builtin_function_or_method",
    "instance",
    "_Feature"
   ],
   "window_display": false
  }
 },
 "nbformat": 4,
 "nbformat_minor": 2
}
