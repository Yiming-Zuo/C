{
 "cells": [
  {
   "cell_type": "code",
   "execution_count": 1,
   "metadata": {},
   "outputs": [],
   "source": [
    "import numpy as np"
   ]
  },
  {
   "cell_type": "markdown",
   "metadata": {
    "heading_collapsed": true
   },
   "source": [
    "### 1 创建和保存 Numpy ndarrays\n",
    "#### 1.1 创建 numpy ndarrays\n",
    "#### 1.2 保存 numpy array "
   ]
  },
  {
   "cell_type": "code",
   "execution_count": 19,
   "metadata": {
    "hidden": true
   },
   "outputs": [
    {
     "name": "stdout",
     "output_type": "stream",
     "text": [
      "(2, 5)\n",
      "10\n",
      "int64\n"
     ]
    }
   ],
   "source": [
    "# 1.1\n",
    "# 2Darray\n",
    "x = np.array([[1, 2, 3.2, 4, 5], [6, 7, 8, 9, 10]], dtype=np.int64)\n",
    "print(x.shape)\n",
    "print(x.size)\n",
    "print(x.dtype)"
   ]
  },
  {
   "cell_type": "code",
   "execution_count": 21,
   "metadata": {
    "hidden": true
   },
   "outputs": [
    {
     "name": "stdout",
     "output_type": "stream",
     "text": [
      "[[ 1  2  3  4  5]\n",
      " [ 6  7  8  9 10]]\n"
     ]
    }
   ],
   "source": [
    "# 1.2\n",
    "# 保存 ndarray 到文件\n",
    "np.save('my_array', x)\n",
    "# 从文件中读取 array\n",
    "y = np.load('my_array.npy')\n",
    "print(y)"
   ]
  },
  {
   "cell_type": "markdown",
   "metadata": {
    "heading_collapsed": true
   },
   "source": [
    "### 2 使用内置函数创建 arrays\n",
    "#### 2.1 `np.zeros(size)`\n",
    "#### 2.2 `np.ones(size)`\n",
    "#### 2.3 `np.full(size, num)`\n",
    "#### 2.4 `np.eye(num)`\n",
    "单位矩阵\n",
    "#### 2.5 `np.diag(num_list)`\n",
    "对角矩阵\n",
    "#### 2.6 `np.arange(start, end, step)`\n",
    "#### 2.7 `np.linspace(start, end, N=50, endpoint = True)`\n",
    "#### 2.8 `np.random.random(size)`\n",
    "#### 2.9 `np.random.randint(start, end, size)`\n",
    "#### 2.10 `np.random.normal(mean, standard deviation, size=shape)`"
   ]
  },
  {
   "cell_type": "code",
   "execution_count": 26,
   "metadata": {
    "hidden": true,
    "scrolled": true
   },
   "outputs": [
    {
     "name": "stdout",
     "output_type": "stream",
     "text": [
      "[[0. 0. 0.]\n",
      " [0. 0. 0.]]\n",
      "[[1. 1.]\n",
      " [1. 1.]\n",
      " [1. 1.]]\n",
      "[[6 6 6]\n",
      " [6 6 6]]\n",
      "[[1. 0. 0. 0. 0. 0.]\n",
      " [0. 1. 0. 0. 0. 0.]\n",
      " [0. 0. 1. 0. 0. 0.]\n",
      " [0. 0. 0. 1. 0. 0.]\n",
      " [0. 0. 0. 0. 1. 0.]\n",
      " [0. 0. 0. 0. 0. 1.]]\n",
      "[[10  0  0  0]\n",
      " [ 0 20  0  0]\n",
      " [ 0  0 30  0]\n",
      " [ 0  0  0 40]]\n"
     ]
    }
   ],
   "source": [
    "# 2.1\n",
    "zeros_array = np.zeros((2, 3))\n",
    "# 2.2\n",
    "ones_array = np.ones((3, 2))\n",
    "# 2.3\n",
    "nums_array = np.full((2, 3), 6)\n",
    "# 2.4 单位矩阵\n",
    "eyes_array = np.eye(6)\n",
    "# 2.5 对角矩阵\n",
    "diags_array = np.diag([10, 20, 30, 40])\n",
    "print(zeros_array)\n",
    "print(ones_array)\n",
    "print(nums_array)\n",
    "print(eyes_array)\n",
    "print(diags_array)"
   ]
  },
  {
   "cell_type": "code",
   "execution_count": 28,
   "metadata": {
    "hidden": true
   },
   "outputs": [
    {
     "name": "stdout",
     "output_type": "stream",
     "text": [
      "[2 4 6 8]\n"
     ]
    }
   ],
   "source": [
    "# 2.6 \n",
    "arange_array = np.arange(2, 10, 2)\n",
    "print(arange_array)"
   ]
  },
  {
   "cell_type": "code",
   "execution_count": 36,
   "metadata": {
    "hidden": true
   },
   "outputs": [
    {
     "name": "stdout",
     "output_type": "stream",
     "text": [
      "[[  0   5  10  15  21]\n",
      " [ 26  31  36  42  47]\n",
      " [ 52  57  63  68  73]\n",
      " [ 78  84  89  94 100]]\n"
     ]
    }
   ],
   "source": [
    "# 2.7\n",
    "linspace_arrge = np.linspace(0, 100, 20, endpoint=True, dtype=np.int64).reshape(4, 5)\n",
    "print(linspace_arrge)"
   ]
  },
  {
   "cell_type": "code",
   "execution_count": 37,
   "metadata": {
    "hidden": true
   },
   "outputs": [
    {
     "name": "stdout",
     "output_type": "stream",
     "text": [
      "[[0.04963467 0.67799726 0.93673986]\n",
      " [0.99535029 0.5145348  0.96063178]\n",
      " [0.52763841 0.2636562  0.10014667]]\n"
     ]
    }
   ],
   "source": [
    "# 2.8\n",
    "# [0.0, 1.0)\n",
    "random_array = np.random.random((3, 3))\n",
    "print(random_array)"
   ]
  },
  {
   "cell_type": "code",
   "execution_count": 40,
   "metadata": {
    "hidden": true
   },
   "outputs": [
    {
     "name": "stdout",
     "output_type": "stream",
     "text": [
      "[[6 6 6]\n",
      " [6 6 7]\n",
      " [7 6 6]]\n"
     ]
    }
   ],
   "source": [
    "# 2.9\n",
    "# [start, end)\n",
    "randint_array = np.random.randint(6, 8, (3, 3))\n",
    "print(randint_array)"
   ]
  },
  {
   "cell_type": "code",
   "execution_count": 46,
   "metadata": {
    "hidden": true
   },
   "outputs": [
    {
     "name": "stdout",
     "output_type": "stream",
     "text": [
      "[[ 1.00674909 -0.40365721 -0.3514684 ]\n",
      " [ 0.29534814 -0.36189898 -0.03349199]\n",
      " [-0.15115684 -1.73481949  0.63495654]]\n"
     ]
    }
   ],
   "source": [
    "# 2.10\n",
    "# 正态分布\n",
    "normal_array = np.random.normal(0, 1, size=(3, 3))\n",
    "print(normal_array)"
   ]
  },
  {
   "cell_type": "code",
   "execution_count": 49,
   "metadata": {
    "hidden": true
   },
   "outputs": [
    {
     "data": {
      "text/plain": [
       "array([[ 2.,  4.,  6.,  8.],\n",
       "       [10., 12., 14., 16.],\n",
       "       [18., 20., 22., 24.],\n",
       "       [26., 28., 30., 32.]])"
      ]
     },
     "execution_count": 49,
     "metadata": {},
     "output_type": "execute_result"
    }
   ],
   "source": [
    "X = np.linspace(2, 32, 16).reshape((4, 4))\n",
    "X"
   ]
  },
  {
   "cell_type": "markdown",
   "metadata": {
    "heading_collapsed": true
   },
   "source": [
    "### 3 添加或删除 array 中的元素\n",
    "#### 3.1 删除元素\n",
    "`np.delete(ndarray, elements, axis)`\n",
    "#### 3.2 添加元素\n",
    "`np.append(ndarray, elements, axis)`\n",
    "#### 3.3 插入元素\n",
    "`np.insert(ndarray, index, elements, axis)`\n",
    "#### 3.4 array 堆叠\n",
    "##### 3.4.1 垂直堆叠\n",
    "`np.vstack((array, array))`\n",
    "##### 3.4.2 水平堆叠\n",
    "`np.hstack((arrat, array))`"
   ]
  },
  {
   "cell_type": "code",
   "execution_count": 51,
   "metadata": {
    "hidden": true
   },
   "outputs": [
    {
     "name": "stdout",
     "output_type": "stream",
     "text": [
      "[[4 5 6]\n",
      " [7 8 9]]\n",
      "[[5]\n",
      " [8]]\n"
     ]
    }
   ],
   "source": [
    "# 3.1\n",
    "x = np.array([[1, 2, 3], \n",
    "             [4, 5, 6], \n",
    "             [7, 8, 9]])\n",
    "x = np.delete(x, 0, 0)\n",
    "# 索引\n",
    "y = np.delete(x, [0, 2], 1)\n",
    "print(x)\n",
    "print(y)"
   ]
  },
  {
   "cell_type": "code",
   "execution_count": 63,
   "metadata": {
    "hidden": true
   },
   "outputs": [
    {
     "name": "stdout",
     "output_type": "stream",
     "text": [
      "[[ 1  2  3]\n",
      " [ 4  5  6]\n",
      " [ 7  8  9]\n",
      " [10 11 12]]\n",
      "[[ 1  2  3 10]\n",
      " [ 4  5  6 11]\n",
      " [ 7  8  9 12]\n",
      " [10 11 12 13]]\n"
     ]
    }
   ],
   "source": [
    "# 3.2\n",
    "x = np.array([[1, 2, 3], \n",
    "             [4, 5, 6], \n",
    "             [7, 8, 9]])\n",
    "# 二维元素\n",
    "x = np.append(x, [[10, 11, 12]], 0)\n",
    "y = np.append(x, [[10], [11], [12], [13]], 1)\n",
    "print(x)\n",
    "print(y)"
   ]
  },
  {
   "cell_type": "code",
   "execution_count": 66,
   "metadata": {
    "hidden": true
   },
   "outputs": [
    {
     "name": "stdout",
     "output_type": "stream",
     "text": [
      "[[1 2 3]\n",
      " [6 6 6]\n",
      " [4 5 6]\n",
      " [7 8 9]]\n",
      "[[1 6 2 3]\n",
      " [4 6 5 6]\n",
      " [7 6 8 9]]\n"
     ]
    }
   ],
   "source": [
    "# 3.3\n",
    "x = np.array([[1, 2, 3], \n",
    "             [4, 5, 6], \n",
    "             [7, 8, 9]])\n",
    "y = np.insert(x, 1, [6, 6, 6], 0)\n",
    "print(y)\n",
    "x = np.insert(x, 1, [6, 6, 6], 1)\n",
    "print(x)"
   ]
  },
  {
   "cell_type": "code",
   "execution_count": 70,
   "metadata": {
    "hidden": true
   },
   "outputs": [
    {
     "name": "stdout",
     "output_type": "stream",
     "text": [
      "[[1 2]\n",
      " [3 4]\n",
      " [5 6]]\n",
      "[[1 3 4]\n",
      " [2 5 6]]\n"
     ]
    }
   ],
   "source": [
    "# 3.4\n",
    "# 3.4.1\n",
    "# 1D\n",
    "x = np.array([1,2])\n",
    "# 2D\n",
    "y = np.array([[3, 4],\n",
    "             [5, 6]])\n",
    "z = np.vstack((x, y))\n",
    "print(z)\n",
    "# 3.4.2\n",
    "w = np.hstack((x.reshape(2, 1), y))\n",
    "print(w)"
   ]
  },
  {
   "cell_type": "markdown",
   "metadata": {
    "heading_collapsed": true
   },
   "source": [
    "### 4 切片\n",
    "切片不会在内存中创建新的 array，切片元素的改变会导致原始数组元素的改变 \n",
    "#### 4.1 将切片复制到新的 array 中\n",
    "`np.copy(array)`\n",
    "#### 4.2 按对角线提取元素\n",
    "`np.diag(array, K=0)`\n",
    "#### 4.3 提取 array 中唯一的元素\n",
    "`np.unique(array)`"
   ]
  },
  {
   "cell_type": "code",
   "execution_count": 86,
   "metadata": {
    "hidden": true
   },
   "outputs": [
    {
     "name": "stdout",
     "output_type": "stream",
     "text": [
      "[[ 0  1  2  3  4]\n",
      " [ 5  6  7  8  9]\n",
      " [10 11 12 13 14]\n",
      " [15 16 17 18 19]\n",
      " [20 21 22 23 24]]\n",
      "[[ 0  7  8]\n",
      " [11 12 13]]\n"
     ]
    }
   ],
   "source": [
    "# 4.1\n",
    "x = np.arange(25).reshape((5, 5))\n",
    "y = np.copy(x[[1,2],1:4])\n",
    "y[0][0] = 0\n",
    "print(x)\n",
    "print(y)"
   ]
  },
  {
   "cell_type": "code",
   "execution_count": 89,
   "metadata": {
    "hidden": true
   },
   "outputs": [
    {
     "name": "stdout",
     "output_type": "stream",
     "text": [
      "[ 0  6 12 18 24]\n",
      "[ 1  7 13 19]\n",
      "[15 21]\n"
     ]
    }
   ],
   "source": [
    "# 4,2\n",
    "print(np.diag(x))\n",
    "print(np.diag(x, 1))\n",
    "print(np.diag(x, -3))"
   ]
  },
  {
   "cell_type": "code",
   "execution_count": 92,
   "metadata": {
    "hidden": true
   },
   "outputs": [
    {
     "name": "stdout",
     "output_type": "stream",
     "text": [
      "[2 3 4 5]\n"
     ]
    }
   ],
   "source": [
    "# 4,3\n",
    "x = np.array([[2, 3, 4],\n",
    "            [5, 2, 3], \n",
    "            [4, 3, 2]])\n",
    "print(np.unique(x))"
   ]
  },
  {
   "cell_type": "markdown",
   "metadata": {
    "heading_collapsed": true
   },
   "source": [
    "### 5 布尔索引、array 比较与排序\n",
    "#### 5.1 布尔索引\n",
    "#### 5.2 比较\n",
    "`np.intersect1d(x, y)  # 并集`      \n",
    "`np.union1d(x, y)  # 交集`    \n",
    "`np.setdiff1d(x, y)  # 在 x 中但不在 y 中`\n",
    "#### 5.3 排序\n",
    "#### 5.3.1 1d 排序\n",
    "##### 5.3.1.1 `np.sort(array)  # 不改变内存`\n",
    "##### 5.3.1.2 `array.sort()  # 改变内存`\n",
    "##### 5.3.1.3 `np.unique(x.sort())  # 去除重复值后排序`\n",
    "#### 5.3.2 2d 排序"
   ]
  },
  {
   "cell_type": "code",
   "execution_count": 96,
   "metadata": {
    "hidden": true
   },
   "outputs": [
    {
     "name": "stdout",
     "output_type": "stream",
     "text": [
      "[[ 0  1  2  3  4]\n",
      " [ 5  6  7  8  9]\n",
      " [10 11 12 13 14]\n",
      " [15 16 17 18 19]\n",
      " [20 21 22 23 24]]\n",
      "[11 12 13 14 15 16 17 18 19]\n",
      "[[ 0  1  2  3  4]\n",
      " [ 5  6  7  8  9]\n",
      " [10 -1 -1 -1 -1]\n",
      " [-1 -1 -1 -1 -1]\n",
      " [-1 -1 -1 -1 -1]]\n"
     ]
    }
   ],
   "source": [
    "# 5.1\n",
    "x = np.arange(25).reshape((5, 5))\n",
    "print(x)\n",
    "print(x[(x>10) & (x<20)])\n",
    "x[x > 10] = -1\n",
    "print(x)"
   ]
  },
  {
   "cell_type": "code",
   "execution_count": 97,
   "metadata": {
    "hidden": true
   },
   "outputs": [
    {
     "name": "stdout",
     "output_type": "stream",
     "text": [
      "[2 4]\n",
      "[1 2 3 4 5 6 7 8]\n",
      "[1 3 5]\n"
     ]
    }
   ],
   "source": [
    "# 5.2\n",
    "x = np.array([1,2,3,4,5])\n",
    "y = np.array([6,7,2,8,4])\n",
    "x_and_y = np.intersect1d(x ,y)\n",
    "x_or_y = np.union1d(x, y)\n",
    "x_diff_y = np.setdiff1d(x, y)\n",
    "print(x_and_y)\n",
    "print(x_or_y)\n",
    "print(x_diff_y)"
   ]
  },
  {
   "cell_type": "code",
   "execution_count": 105,
   "metadata": {
    "hidden": true
   },
   "outputs": [
    {
     "name": "stdout",
     "output_type": "stream",
     "text": [
      "[ 5  4  9  5  9  3  3 10  2  4]\n",
      "[ 2  3  3  4  4  5  5  9  9 10]\n",
      "[ 2  3  3  4  4  5  5  9  9 10]\n"
     ]
    }
   ],
   "source": [
    "# 5.3\n",
    "# 5.3.1.1\n",
    "x = np.random.randint(1, 11, (10))\n",
    "print(x)\n",
    "y = np.sort(x)\n",
    "print(y)\n",
    "# 5.3.1.2\n",
    "x.sort()\n",
    "print(x)"
   ]
  },
  {
   "cell_type": "code",
   "execution_count": 110,
   "metadata": {
    "hidden": true
   },
   "outputs": [
    {
     "name": "stdout",
     "output_type": "stream",
     "text": [
      "[10 10  2  3  6  9  4 10  9  6]\n",
      "[ 2  3  4  6  9 10]\n"
     ]
    }
   ],
   "source": [
    "# 5.3.1.3\n",
    "x = np.random.randint(1, 11, (10))\n",
    "print(x)\n",
    "x = np.unique(x)\n",
    "x.sort()\n",
    "print(x)"
   ]
  },
  {
   "cell_type": "code",
   "execution_count": 115,
   "metadata": {
    "hidden": true
   },
   "outputs": [
    {
     "name": "stdout",
     "output_type": "stream",
     "text": [
      "[[ 4  7  3  7  4]\n",
      " [ 4  7  5  6  8]\n",
      " [10 10  7  7  7]\n",
      " [ 5  2  8  6  4]\n",
      " [ 1  3  3  3 10]]\n",
      "[[ 1  2  3  3  4]\n",
      " [ 4  3  3  6  4]\n",
      " [ 4  7  5  6  7]\n",
      " [ 5  7  7  7  8]\n",
      " [10 10  8  7 10]]\n",
      "[[ 3  4  4  7  7]\n",
      " [ 4  5  6  7  8]\n",
      " [ 7  7  7 10 10]\n",
      " [ 2  4  5  6  8]\n",
      " [ 1  3  3  3 10]]\n"
     ]
    }
   ],
   "source": [
    "# 5.3.2\n",
    "x = np.random.randint(1, 11, (5, 5))\n",
    "print(x)\n",
    "print(np.sort(x, axis=0))\n",
    "print(np.sort(x, axis=1))"
   ]
  },
  {
   "cell_type": "markdown",
   "metadata": {
    "heading_collapsed": true
   },
   "source": [
    "### 6 算数运算和广播\n",
    "#### 6.1 算数运算\n",
    "`np.exp(array)`      \n",
    "`np.sqrt(array)  # 开方`     \n",
    "`np.power(array, n)`\n",
    "#### 6.2 统计\n",
    "`array.mean(axis)`\n",
    "`array.sum(axis)`\n",
    "`array.std(axis)`\n",
    "`array.max(axis)`\n",
    "`array.min(axis)`\n",
    "`np.median(array, axis)  # 中位数`\n",
    "#### 6.3 广播"
   ]
  },
  {
   "cell_type": "code",
   "execution_count": 121,
   "metadata": {
    "hidden": true
   },
   "outputs": [
    {
     "name": "stdout",
     "output_type": "stream",
     "text": [
      "[ 2.71828183  7.3890561  20.08553692 54.59815003]\n",
      "[1.         1.41421356 1.73205081 2.        ]\n",
      "[ 1  8 27 64]\n"
     ]
    }
   ],
   "source": [
    "# 6.1\n",
    "x = np.array([1, 2, 3, 4])\n",
    "print(np.exp(x))\n",
    "print(np.sqrt(x))\n",
    "print(np.power(x ,3))"
   ]
  },
  {
   "cell_type": "code",
   "execution_count": 135,
   "metadata": {
    "hidden": true
   },
   "outputs": [
    {
     "name": "stdout",
     "output_type": "stream",
     "text": [
      "2.5 [2. 3.] [1.5 3.5]\n",
      "10 [4 6] [3 7]\n",
      "1.118033988749895 [1. 1.] [0.5 0.5]\n",
      "4 [3 4] [2 4]\n",
      "1 [1 2] [1 3]\n",
      "2.5 [2. 3.] [1.5 3.5]\n"
     ]
    }
   ],
   "source": [
    "# 6.2\n",
    "x = np.array([[1, 2], \n",
    "            [3, 4]])\n",
    "print(x.mean(), x.mean(axis=0), x.mean(axis=1))\n",
    "print(x.sum(), x.sum(axis=0), x.sum(axis=1))\n",
    "print(x.std(), x.std(axis=0), x.std(axis=1))\n",
    "print(x.max(), x.max(axis=0), x.max(axis=1))\n",
    "print(x.min(), x.min(axis=0), x.min(axis=1))\n",
    "print(np.median(x), np.median(x, axis=0), np.median(x, axis=1))"
   ]
  },
  {
   "cell_type": "code",
   "execution_count": 138,
   "metadata": {
    "hidden": true
   },
   "outputs": [
    {
     "name": "stdout",
     "output_type": "stream",
     "text": [
      "[[1. 2. 3. 4.]\n",
      " [1. 2. 3. 4.]\n",
      " [1. 2. 3. 4.]\n",
      " [1. 2. 3. 4.]]\n"
     ]
    }
   ],
   "source": [
    "# 6.3\n",
    "x = np.ones((4, 4)) * np.arange(1, 5)\n",
    "print(x)"
   ]
  }
 ],
 "metadata": {
  "kernelspec": {
   "display_name": "Python 3",
   "language": "python",
   "name": "python3"
  },
  "language_info": {
   "codemirror_mode": {
    "name": "ipython",
    "version": 3
   },
   "file_extension": ".py",
   "mimetype": "text/x-python",
   "name": "python",
   "nbconvert_exporter": "python",
   "pygments_lexer": "ipython3",
   "version": "3.7.4"
  },
  "varInspector": {
   "cols": {
    "lenName": 16,
    "lenType": 16,
    "lenVar": 40
   },
   "kernels_config": {
    "python": {
     "delete_cmd_postfix": "",
     "delete_cmd_prefix": "del ",
     "library": "var_list.py",
     "varRefreshCmd": "print(var_dic_list())"
    },
    "r": {
     "delete_cmd_postfix": ") ",
     "delete_cmd_prefix": "rm(",
     "library": "var_list.r",
     "varRefreshCmd": "cat(var_dic_list()) "
    }
   },
   "types_to_exclude": [
    "module",
    "function",
    "builtin_function_or_method",
    "instance",
    "_Feature"
   ],
   "window_display": false
  }
 },
 "nbformat": 4,
 "nbformat_minor": 2
}
